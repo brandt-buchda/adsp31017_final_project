{
 "cells": [
  {
   "cell_type": "code",
   "execution_count": null,
   "metadata": {},
   "outputs": [],
   "source": [
    "import numpy as np\n",
    "import pandas as pd"
   ]
  },
  {
   "cell_type": "markdown",
   "metadata": {},
   "source": [
    "## Rotten Tomato dataset "
   ]
  },
  {
   "cell_type": "code",
   "execution_count": null,
   "metadata": {},
   "outputs": [],
   "source": [
    "rt_reviews= pd.read_csv(\"/Users/Lenovo1/Desktop/Machine learning/project /data/rotten tomato/rotten_tomatoes_movie_reviews.csv\")\n",
    "rt_reviews.head()"
   ]
  },
  {
   "cell_type": "code",
   "execution_count": null,
   "metadata": {},
   "outputs": [],
   "source": [
    "len(rt_reviews)/len(rt_reviews[\"id\"].unique())"
   ]
  },
  {
   "cell_type": "code",
   "execution_count": null,
   "metadata": {},
   "outputs": [],
   "source": [
    "missing_ratio = rt_reviews.isnull().mean().round(4) * 100\n",
    "missing_ratio"
   ]
  },
  {
   "cell_type": "code",
   "execution_count": null,
   "metadata": {},
   "outputs": [],
   "source": [
    "rt_movies= pd.read_csv(\"data/rotten tomato/rotten_tomatoes_movies.csv\")\n",
    "rt_movies.head()"
   ]
  },
  {
   "cell_type": "code",
   "execution_count": null,
   "metadata": {},
   "outputs": [],
   "source": [
    "\n",
    "missing_ratio = rt_movies.isnull().mean().round(4) * 100\n",
    "missing_ratio\n"
   ]
  },
  {
   "cell_type": "code",
   "execution_count": null,
   "metadata": {},
   "outputs": [],
   "source": [
    "import matplotlib.pyplot as plt\n",
    "\n",
    "# 确保 missing_ratio_sorted 变量已定义\n",
    "missing_ratio_sorted = missing_ratio.sort_values(ascending=False)\n",
    "\n",
    "# 创建柱状图\n",
    "plt.figure(figsize=(8, 5))\n",
    "bars = missing_ratio_sorted.plot(kind=\"bar\", legend=False, width=0.8, color='skyblue')\n",
    "\n",
    "# 在柱子上方添加百分比标签\n",
    "for bar, percentage in zip(bars.patches, missing_ratio_sorted):\n",
    "    plt.text(bar.get_x() + bar.get_width() / 2, bar.get_height() + 0.5, \n",
    "             f\"{percentage:.1f}%\", ha='center', fontsize=8, fontweight='bold')\n",
    "\n",
    "# 添加标题和标签\n",
    "plt.title(\"Missing Values Percentage per Column\", fontsize=14)\n",
    "plt.xlabel(\"Columns\", fontsize=12)\n",
    "plt.ylabel(\"Missing Percentage (%)\", fontsize=12)\n",
    "plt.xticks(rotation=45, ha=\"right\")\n",
    "\n",
    "# 显示网格线\n",
    "plt.grid(axis=\"y\", linestyle=\"--\", alpha=0.7)\n",
    "\n",
    "# 显示图表\n",
    "plt.show()\n"
   ]
  },
  {
   "cell_type": "code",
   "execution_count": null,
   "metadata": {},
   "outputs": [],
   "source": [
    "language = rt_movies['originalLanguage'].dropna()\n",
    "language_counts = rt_movies['originalLanguage'].value_counts()\n",
    "# 确保 language_counts 已经被定义并包含前 5 个最多的语言\n",
    "top5_language_counts = language_counts.head(5)\n",
    "\n",
    "# 计算百分比\n",
    "total_count = language_counts.sum()\n",
    "percentages = (top5_language_counts / total_count) * 100\n",
    "plt.figure(figsize=(8, 5))\n",
    "bars = top5_language_counts.plot(kind='bar', width=0.8, color='skyblue')\n",
    "for bar, percentage in zip(bars.patches, percentages):\n",
    "    plt.text(bar.get_x() + bar.get_width() / 2, bar.get_height() + 5, \n",
    "             f\"{percentage:.1f}%\", ha='center', fontsize=12, fontweight='bold')\n",
    "plt.title(\"Top 5 Original Languages Distribution\", fontsize=14)\n",
    "plt.xlabel(\"Original Language\", fontsize=12)\n",
    "plt.ylabel(\"Count\", fontsize=12)\n",
    "plt.xticks(rotation=45, ha=\"right\")\n",
    "plt.grid(axis=\"y\", linestyle=\"--\", alpha=0.7)\n",
    "plt.show()\n"
   ]
  },
  {
   "cell_type": "code",
   "execution_count": null,
   "metadata": {},
   "outputs": [],
   "source": [
    "box_office = rt_movies['boxOffice'].dropna()\n",
    "bo= box_office['originalLanguage'].value_counts()\n",
    "# 确保 language_counts 已经被定义并包含前 5 个最多的语言\n",
    "top5_language_counts = language_counts.head(5)\n",
    "\n",
    "# 计算百分比\n",
    "total_count = language_counts.sum()\n",
    "percentages = (top5_language_counts / total_count) * 100\n",
    "plt.figure(figsize=(8, 5))\n",
    "bars = top5_language_counts.plot(kind='bar', width=0.8, color='skyblue')\n",
    "for bar, percentage in zip(bars.patches, percentages):\n",
    "    plt.text(bar.get_x() + bar.get_width() / 2, bar.get_height() + 5, \n",
    "             f\"{percentage:.1f}%\", ha='center', fontsize=12, fontweight='bold')\n",
    "plt.title(\"Top 5 Original Languages Distribution\", fontsize=14)\n",
    "plt.xlabel(\"Original Language\", fontsize=12)\n",
    "plt.ylabel(\"Count\", fontsize=12)\n",
    "plt.xticks(rotation=45, ha=\"right\")\n",
    "plt.grid(axis=\"y\", linestyle=\"--\", alpha=0.7)\n",
    "plt.show()"
   ]
  },
  {
   "cell_type": "code",
   "execution_count": null,
   "metadata": {},
   "outputs": [],
   "source": [
    "import pandas as pd\n",
    "import matplotlib.pyplot as plt\n",
    "import numpy as np\n",
    "\n",
    "# 过滤掉 NaN 值\n",
    "box_office = rt_movies['boxOffice'].dropna()\n",
    "# 定义转换函数\n",
    "def convert_box_office(value):\n",
    "    value = value.replace(\"$\", \"\")  # 去掉美元符号\n",
    "    if \"M\" in value:\n",
    "        return float(value.replace(\"M\", \"\")) * 1e6  # 百万\n",
    "    elif \"K\" in value:\n",
    "        return float(value.replace(\"K\", \"\")) * 1e3  # 千\n",
    "    else:\n",
    "        return float(value)  # 没有单位的情况（直接转换）\n",
    "\n",
    "# 应用转换\n",
    "box_office = box_office.apply(convert_box_office)\n",
    "\n",
    "# 进行对数变换（防止数据跨度太大影响可视化）\n",
    "box_office_log = np.log10(box_office[box_office > 0])  # 避免 log(0) 问题\n",
    "\n",
    "# 绘制对数变换的直方图\n",
    "plt.figure(figsize=(10, 5))\n",
    "plt.hist(box_office_log, bins=20, edgecolor=\"black\", alpha=0.7)\n",
    "\n",
    "# 添加标题和标签\n",
    "plt.title(\"Log-Scaled Box Office Distribution\", fontsize=14)\n",
    "plt.xlabel(\"Log10(Box Office Revenue)\", fontsize=12)\n",
    "plt.ylabel(\"Frequency\", fontsize=12)\n",
    "plt.xticks(rotation=45, ha=\"right\")\n",
    "\n",
    "# 显示网格线\n",
    "plt.grid(axis=\"y\", linestyle=\"--\", alpha=0.7)\n",
    "\n",
    "# 显示图表\n",
    "plt.show()\n"
   ]
  },
  {
   "cell_type": "code",
   "execution_count": null,
   "metadata": {},
   "outputs": [],
   "source": [
    "genre = rt_movies['genre'].dropna()\n",
    "genre"
   ]
  },
  {
   "cell_type": "code",
   "execution_count": null,
   "metadata": {},
   "outputs": [],
   "source": [
    "import pandas as pd\n",
    "import matplotlib.pyplot as plt\n",
    "\n",
    "# 假设 rt_movies 数据已加载\n",
    "genres_raw = rt_movies['genre'].dropna()\n",
    "\n",
    "# 统一分隔符（可能是 \",\" 或 \"&\"），并拆分成列表\n",
    "genres_split = genres_raw.str.replace(\",\", \"&\").str.split(\"&\")\n",
    "\n",
    "# 统计包含某个类型的电影数量（去重处理，每部电影类型不重复计算）\n",
    "all_genres = {}\n",
    "total_movies = len(genres_split)  # 电影总数\n",
    "\n",
    "for genre_list in genres_split:\n",
    "    unique_genres = set(genre_list)  # 去重，确保每部电影的某个类型只计数一次\n",
    "    for genre in unique_genres:\n",
    "        genre = genre.strip()  # 去除空格\n",
    "        all_genres[genre] = all_genres.get(genre, 0) + 1\n",
    "genre_counts = pd.Series(all_genres).sort_values(ascending=False)\n",
    "percentages = (genre_counts / total_movies) * 100\n",
    "top_n = 15\n",
    "plt.figure(figsize=(12, 6))\n",
    "bars = genre_counts.head(top_n).plot(kind='bar', color='skyblue', width=0.8)\n",
    "\n",
    "# 在柱子上方添加百分比标签\n",
    "for bar, percentage in zip(bars.patches, percentages.head(top_n)):\n",
    "    plt.text(bar.get_x() + bar.get_width() / 2, bar.get_height() + 2, \n",
    "             f\"{percentage:.1f}%\", ha='center', fontsize=10, fontweight='bold')\n",
    "\n",
    "# 添加标题和标签\n",
    "plt.title(\"Top 15 Movie Genres Distribution (Percentage by Movies)\", fontsize=14)\n",
    "plt.xlabel(\"Genres\", fontsize=12)\n",
    "plt.ylabel(\"Number of Movies\", fontsize=12)\n",
    "plt.xticks(rotation=45, ha=\"right\")\n",
    "\n",
    "# 显示网格线\n",
    "plt.grid(axis=\"y\", linestyle=\"--\", alpha=0.7)\n",
    "\n",
    "# 显示图表\n",
    "plt.show()\n"
   ]
  },
  {
   "cell_type": "code",
   "execution_count": null,
   "metadata": {},
   "outputs": [],
   "source": [
    "import pandas as pd\n",
    "filtered_df = rt_movies[rt_movies['boxOffice'].notna()]\n",
    "missing_ratio = filtered_df.isnull().mean() * 100\n",
    "missing_ratio"
   ]
  },
  {
   "cell_type": "markdown",
   "metadata": {},
   "source": [
    "## Wiki Dataset"
   ]
  },
  {
   "cell_type": "code",
   "execution_count": null,
   "metadata": {},
   "outputs": [],
   "source": [
    "wiki = pd.read_csv(\"data/wiki_movie_plots_deduped 2.csv\")\n",
    "wiki.head()"
   ]
  },
  {
   "cell_type": "code",
   "execution_count": null,
   "metadata": {},
   "outputs": [],
   "source": [
    "wiki.shape"
   ]
  },
  {
   "cell_type": "code",
   "execution_count": null,
   "metadata": {},
   "outputs": [],
   "source": [
    "missing_ratio = wiki.isnull().mean().round(4) * 100\n",
    "missing_ratio"
   ]
  },
  {
   "cell_type": "markdown",
   "metadata": {},
   "source": [
    "## Movie Dataset"
   ]
  },
  {
   "cell_type": "code",
   "execution_count": null,
   "metadata": {},
   "outputs": [],
   "source": [
    "credits = pd.read_csv(\"/Users/Lenovo1/Desktop/Machine learning/project /data/Movie dataset/credits.csv\")\n",
    "credits"
   ]
  },
  {
   "cell_type": "code",
   "execution_count": null,
   "metadata": {},
   "outputs": [],
   "source": [
    "import pandas as pd\n",
    "import ast  # 用于安全解析嵌套列表/字典格式\n",
    "\n",
    "# 读取 CSV\n",
    "credits = pd.read_csv(\"/Users/Lenovo1/Desktop/Machine learning/project /data/Movie dataset/credits.csv\")\n",
    "\n",
    "# 解析 JSON 格式的列（cast 和 cre\n",
    "\n"
   ]
  },
  {
   "cell_type": "code",
   "execution_count": null,
   "metadata": {},
   "outputs": [],
   "source": [
    "credits.head()"
   ]
  },
  {
   "cell_type": "code",
   "execution_count": null,
   "metadata": {},
   "outputs": [],
   "source": [
    "keywords = pd.read_csv(\"/Users/Lenovo1/Desktop/Machine learning/project /data/Movie dataset/keywords.csv\")\n",
    "keywords[\"keywords\"] = keywords[\"keywords\"].apply(lambda x: ast.literal_eval(x) if isinstance(x, str) and x.startswith(\"[\") else [])\n",
    "keywords[\"keywords\"] = keywords[\"keywords\"].apply(lambda x: [kw[\"name\"] for kw in x])\n",
    "keywords.head()"
   ]
  },
  {
   "cell_type": "code",
   "execution_count": null,
   "metadata": {},
   "outputs": [],
   "source": [
    "links_small = pd.read_csv(\"/Users/Lenovo1/Desktop/Machine learning/project /data/Movie dataset/links_small.csv\")\n",
    "links_small.head()"
   ]
  },
  {
   "cell_type": "code",
   "execution_count": null,
   "metadata": {},
   "outputs": [],
   "source": [
    "links = pd.read_csv(\"/Users/Lenovo1/Desktop/Machine learning/project /data/Movie dataset/links.csv\")\n",
    "links.head()"
   ]
  },
  {
   "cell_type": "code",
   "execution_count": null,
   "metadata": {},
   "outputs": [],
   "source": [
    "movies_metadata = pd.read_csv(\"/Users/Lenovo1/Desktop/Machine learning/project /data/Movie dataset/movies_metadata.csv\")\n",
    "def extract_names(column):\n",
    "    if pd.isna(column) or column == \"nan\":  # 处理缺失值\n",
    "        return []\n",
    "    try:\n",
    "        parsed = ast.literal_eval(column) if isinstance(column, str) and column.startswith(\"[\") else [ast.literal_eval(column)]\n",
    "        return [entry[\"name\"] for entry in parsed if isinstance(entry, dict) and \"name\" in entry]\n",
    "    except (ValueError, SyntaxError):  # 处理异常数据\n",
    "        return []\n",
    "\n",
    "movies_metadata[\"belongs_to_collection\"] = movies_metadata[\"belongs_to_collection\"].apply(extract_names)\n",
    "\n",
    "# 解析 genres\n",
    "movies_metadata[\"genres\"] = movies_metadata[\"genres\"].apply(extract_names)\n",
    "movies_metadata[\"spoken_languages\"] = movies_metadata[\"spoken_languages\"].apply(extract_names)\n",
    "\n",
    "movies_metadata.head(3)\n"
   ]
  },
  {
   "cell_type": "code",
   "execution_count": null,
   "metadata": {},
   "outputs": [],
   "source": [
    "ratings = pd.read_csv(\"/Users/Lenovo1/Desktop/Machine learning/project /data/Movie dataset/ratings.csv\")\n",
    "ratings.head(3)"
   ]
  },
  {
   "cell_type": "code",
   "execution_count": null,
   "metadata": {},
   "outputs": [],
   "source": []
  }
 ],
 "metadata": {
  "kernelspec": {
   "display_name": "Python 3",
   "language": "python",
   "name": "python3"
  },
  "language_info": {
   "codemirror_mode": {
    "name": "ipython",
    "version": 3
   },
   "file_extension": ".py",
   "mimetype": "text/x-python",
   "name": "python",
   "nbconvert_exporter": "python",
   "pygments_lexer": "ipython3",
   "version": "3.11.7"
  }
 },
 "nbformat": 4,
 "nbformat_minor": 2
}

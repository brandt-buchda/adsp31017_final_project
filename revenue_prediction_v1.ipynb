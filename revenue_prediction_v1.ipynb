{
 "cells": [
  {
   "cell_type": "code",
   "execution_count": 3,
   "metadata": {},
   "outputs": [],
   "source": [
    "import numpy as np\n",
    "import pandas as pd"
   ]
  },
  {
   "cell_type": "code",
   "execution_count": 4,
   "metadata": {},
   "outputs": [],
   "source": [
    "df = pd.read_csv(\"data/complete_data.csv\")"
   ]
  },
  {
   "cell_type": "code",
   "execution_count": 5,
   "metadata": {},
   "outputs": [
    {
     "data": {
      "text/plain": [
       "(5579, 73)"
      ]
     },
     "execution_count": 5,
     "metadata": {},
     "output_type": "execute_result"
    }
   ],
   "source": [
    "df.shape"
   ]
  },
  {
   "cell_type": "code",
   "execution_count": 6,
   "metadata": {},
   "outputs": [
    {
     "data": {
      "text/html": [
       "<div>\n",
       "<style scoped>\n",
       "    .dataframe tbody tr th:only-of-type {\n",
       "        vertical-align: middle;\n",
       "    }\n",
       "\n",
       "    .dataframe tbody tr th {\n",
       "        vertical-align: top;\n",
       "    }\n",
       "\n",
       "    .dataframe thead th {\n",
       "        text-align: right;\n",
       "    }\n",
       "</style>\n",
       "<table border=\"1\" class=\"dataframe\">\n",
       "  <thead>\n",
       "    <tr style=\"text-align: right;\">\n",
       "      <th></th>\n",
       "      <th>NaN Count</th>\n",
       "      <th>NaN Percentage</th>\n",
       "    </tr>\n",
       "  </thead>\n",
       "  <tbody>\n",
       "    <tr>\n",
       "      <th>Team_tomatoMeter</th>\n",
       "      <td>1228</td>\n",
       "      <td>22.011113</td>\n",
       "    </tr>\n",
       "    <tr>\n",
       "      <th>Cast_tomatoMeter</th>\n",
       "      <td>1196</td>\n",
       "      <td>21.437534</td>\n",
       "    </tr>\n",
       "    <tr>\n",
       "      <th>Cast_audienceScore</th>\n",
       "      <td>1149</td>\n",
       "      <td>20.595089</td>\n",
       "    </tr>\n",
       "    <tr>\n",
       "      <th>Team_audienceScore</th>\n",
       "      <td>1127</td>\n",
       "      <td>20.200753</td>\n",
       "    </tr>\n",
       "    <tr>\n",
       "      <th>Team_Tomato_Meter_Mean</th>\n",
       "      <td>372</td>\n",
       "      <td>6.667862</td>\n",
       "    </tr>\n",
       "    <tr>\n",
       "      <th>Cast_Tomato_Meter_Mean</th>\n",
       "      <td>371</td>\n",
       "      <td>6.649937</td>\n",
       "    </tr>\n",
       "    <tr>\n",
       "      <th>Team_Audience_Score_Mean</th>\n",
       "      <td>370</td>\n",
       "      <td>6.632013</td>\n",
       "    </tr>\n",
       "    <tr>\n",
       "      <th>Cast_Audience_Score_Mean</th>\n",
       "      <td>370</td>\n",
       "      <td>6.632013</td>\n",
       "    </tr>\n",
       "    <tr>\n",
       "      <th>Team_Review_Score_sum</th>\n",
       "      <td>369</td>\n",
       "      <td>6.614089</td>\n",
       "    </tr>\n",
       "    <tr>\n",
       "      <th>Team_Review_Score_mean</th>\n",
       "      <td>369</td>\n",
       "      <td>6.614089</td>\n",
       "    </tr>\n",
       "    <tr>\n",
       "      <th>Team_Num_reviews</th>\n",
       "      <td>369</td>\n",
       "      <td>6.614089</td>\n",
       "    </tr>\n",
       "    <tr>\n",
       "      <th>Cast_Review_Score_sum</th>\n",
       "      <td>369</td>\n",
       "      <td>6.614089</td>\n",
       "    </tr>\n",
       "    <tr>\n",
       "      <th>Cast_Review_Score_mean</th>\n",
       "      <td>369</td>\n",
       "      <td>6.614089</td>\n",
       "    </tr>\n",
       "    <tr>\n",
       "      <th>Cast_Num_reviews</th>\n",
       "      <td>369</td>\n",
       "      <td>6.614089</td>\n",
       "    </tr>\n",
       "  </tbody>\n",
       "</table>\n",
       "</div>"
      ],
      "text/plain": [
       "                          NaN Count  NaN Percentage\n",
       "Team_tomatoMeter               1228       22.011113\n",
       "Cast_tomatoMeter               1196       21.437534\n",
       "Cast_audienceScore             1149       20.595089\n",
       "Team_audienceScore             1127       20.200753\n",
       "Team_Tomato_Meter_Mean          372        6.667862\n",
       "Cast_Tomato_Meter_Mean          371        6.649937\n",
       "Team_Audience_Score_Mean        370        6.632013\n",
       "Cast_Audience_Score_Mean        370        6.632013\n",
       "Team_Review_Score_sum           369        6.614089\n",
       "Team_Review_Score_mean          369        6.614089\n",
       "Team_Num_reviews                369        6.614089\n",
       "Cast_Review_Score_sum           369        6.614089\n",
       "Cast_Review_Score_mean          369        6.614089\n",
       "Cast_Num_reviews                369        6.614089"
      ]
     },
     "execution_count": 6,
     "metadata": {},
     "output_type": "execute_result"
    }
   ],
   "source": [
    "## nan percentage\n",
    "import pandas as pd\n",
    "nan_counts = df.isna().sum()\n",
    "nan_percentage = (nan_counts / len(df)) * 100\n",
    "nan_summary = pd.DataFrame({'NaN Count': nan_counts, 'NaN Percentage': nan_percentage})\n",
    "nan_summary = nan_summary[nan_summary['NaN Count'] > 0].sort_values(by='NaN Count', ascending=False)\n",
    "nan_summary"
   ]
  },
  {
   "cell_type": "code",
   "execution_count": 7,
   "metadata": {},
   "outputs": [],
   "source": [
    "df.fillna(0, inplace=True)"
   ]
  },
  {
   "cell_type": "code",
   "execution_count": 8,
   "metadata": {},
   "outputs": [
    {
     "name": "stdout",
     "output_type": "stream",
     "text": [
      "🔹 continuous_features: ['box_office', 'budget', 'runtime', 'sadness', 'joy', 'love', 'anger', 'fear', 'surprise', 'Team_Review_Score_sum', 'Team_Review_Score_mean', 'Team_Audience_Score_Mean', 'Team_Tomato_Meter_Mean', 'Team_Num_reviews', 'Cast_Review_Score_sum', 'Cast_Review_Score_mean', 'Cast_Audience_Score_Mean', 'Cast_Tomato_Meter_Mean', 'Cast_Num_reviews', 'Cast_audienceScore', 'Cast_tomatoMeter', 'Team_audienceScore', 'Team_tomatoMeter', 'cpi', 'box_office_gross', 'box_office_adjusted', 'collection_id', 'collection_box_office_average']\n",
      "🔹 bool_features: ['Unnamed: 27', 'columbia pictures', 'new line cinema', 'paramount pictures', 'buena vista pictures distribution', 'warner bros. pictures', '20th century fox', 'universal pictures', 'sony pictures releasing', 'warner bros.', 'dolby digital', 'dts', 'sdds', 'dolby sr', 'surround', 'nudity', 'sexual content', 'violence', 'pervasive language', 'sexuality', 'thematic elements', 'drug use', 'some violence', 'some language', 'language', 'mystery & thriller', 'sci-fi', 'adventure', 'drama', 'romance', 'horror', 'kids & family', 'comedy', 'fantasy', 'action', 'Emerging Ensemble', 'Steady Performers', 'Unknown Cast', 'Star Studded Cast', 'Unknown Director / Writer', 'Established Team', 'Blockbuster Team', 'Emerging Director / Writer', 'is_in_collection']\n",
      "🔹 categorical_features: ['rating']\n"
     ]
    }
   ],
   "source": [
    "import pandas as pd\n",
    "all_columns = df.columns\n",
    "\n",
    "continuous_features = [col for col in all_columns if df[col].dtype in ['int64', 'float64'] \n",
    "                       and df[col].nunique() > 10]\n",
    "\n",
    "\n",
    "bool_features = [col for col in all_columns if df[col].nunique() == 2 and sorted(df[col].unique()) == [0, 1]]\n",
    "\n",
    "categorical_features = [col for col in all_columns if df[col].dtype == 'object' or \n",
    "                        (df[col].dtype in ['int64', 'float64'] and df[col].nunique() <= 10)]\n",
    "\n",
    "# 输出各类变量\n",
    "print(\"🔹 continuous_features:\", continuous_features)\n",
    "print(\"🔹 bool_features:\", bool_features)\n",
    "print(\"🔹 categorical_features:\", categorical_features)\n"
   ]
  },
  {
   "cell_type": "code",
   "execution_count": 9,
   "metadata": {},
   "outputs": [],
   "source": [
    "# bool transfermation\n",
    "df[bool_features] = df[bool_features].astype(int)\n"
   ]
  },
  {
   "cell_type": "markdown",
   "metadata": {},
   "source": [
    "## Feature selection & preprocess\n",
    "- Removed highly correlated variables with **box_office_adjusted**, including box_office and other revenue-related columns, to prevent data leakage.\n",
    "- Applied Point-Biserial correlation to boolean features and dropped those with an absolute correlation below 0.05 or an insignificant p-value.\n",
    "- Performed log transformation on **box_office_adjusted** to reduce skewness.\n",
    "- Removed outliers (log data<10 and >20)"
   ]
  },
  {
   "cell_type": "code",
   "execution_count": 10,
   "metadata": {},
   "outputs": [
    {
     "data": {
      "image/png": "[encoded data removed]",
      "text/plain": [
       "<Figure size 1000x500 with 1 Axes>"
      ]
     },
     "metadata": {},
     "output_type": "display_data"
    }
   ],
   "source": [
    "df[\"box_office_adjusted\"].describe()\n",
    "import matplotlib.pyplot as plt\n",
    "import seaborn as sns\n",
    "\n",
    "\n",
    "plt.figure(figsize=(10, 5))\n",
    "sns.histplot(np.log1p(df['box_office_adjusted'] ))\n",
    "plt.title(\"Boxplot of Adjusted Box Office Revenue\")\n",
    "plt.ylabel(\"Revenue ($)\")\n",
    "plt.show()\n"
   ]
  },
  {
   "cell_type": "code",
   "execution_count": 11,
   "metadata": {},
   "outputs": [
    {
     "data": {
      "text/plain": [
       "37"
      ]
     },
     "execution_count": 11,
     "metadata": {},
     "output_type": "execute_result"
    }
   ],
   "source": [
    "from scipy.stats import pointbiserialr\n",
    "drop_columns = [\n",
    "    'box_office',             \n",
    "    'box_office_gross',          \n",
    "    'collection_box_office_average',  \n",
    "    'collection_id',             \n",
    "    'Unnamed: 27' ,\n",
    "    \"box_office_adjusted\"              \n",
    "]\n",
    "low_correlation_features = []\n",
    "for feature in bool_features:\n",
    "    corr, p_value = pointbiserialr(df[feature], df['box_office_adjusted'])\n",
    "    if abs(corr) < 0.05 or p_value > 0.05:  \n",
    "        low_correlation_features.append(feature)\n",
    "\n",
    "\n",
    "drop_columns += low_correlation_features\n",
    "len(drop_columns)\n"
   ]
  },
  {
   "cell_type": "code",
   "execution_count": 12,
   "metadata": {},
   "outputs": [],
   "source": [
    "df1= df[(np.log1p(df['box_office_adjusted'])>10) & (np.log1p(df['box_office_adjusted'])<20)]\n",
    "y = np.log1p(df1['box_office_adjusted'])\n",
    "X = df1.drop(columns=drop_columns)"
   ]
  },
  {
   "cell_type": "code",
   "execution_count": 13,
   "metadata": {},
   "outputs": [
    {
     "data": {
      "text/plain": [
       "(5337, 37)"
      ]
     },
     "execution_count": 13,
     "metadata": {},
     "output_type": "execute_result"
    }
   ],
   "source": [
    "X.shape"
   ]
  },
  {
   "cell_type": "markdown",
   "metadata": {},
   "source": [
    "## Model \n",
    "I trained the model on log-transformed data; For error calculation, I applied an exponential transformation to revert the predictions back to the original scale before computing the error metrics.\n",
    "\n",
    "\n",
    "#### problem \n",
    "- Missing key features such as actors' commercial value, audience discussion trends, and market hype, which significantly impact box office performance.\n",
    "- Though predictions seems well-fitted in the log-transformed space, there are large absolute errors when converted back to the original scale."
   ]
  },
  {
   "cell_type": "markdown",
   "metadata": {},
   "source": [
    "## XGBoost"
   ]
  },
  {
   "cell_type": "code",
   "execution_count": 14,
   "metadata": {},
   "outputs": [],
   "source": [
    "from sklearn.model_selection import train_test_split\n",
    "from xgboost import XGBRegressor\n",
    "from sklearn.metrics import mean_squared_error\n",
    "X_train, X_test, y_train, y_test = train_test_split(X, y, test_size=0.2, random_state=42)\n"
   ]
  },
  {
   "cell_type": "code",
   "execution_count": 15,
   "metadata": {},
   "outputs": [
    {
     "name": "stdout",
     "output_type": "stream",
     "text": [
      "XGBoost RMSE: 41442320.1306\n",
      "XGBoost RMSPE: 1494.59%\n"
     ]
    }
   ],
   "source": [
    "model = XGBRegressor(n_estimators=100, learning_rate=0.1, max_depth=5, random_state=42)\n",
    "model.fit(X_train, y_train)\n",
    "y_pred = model.predict(X_test)\n",
    "def rmspe(y_true, y_pred):\n",
    "    return np.sqrt(np.mean(((y_true - y_pred) / y_true) ** 2)) * 100\n",
    "rmse = np.sqrt(mean_squared_error(np.expm1(y_test), np.expm1(y_pred)))\n",
    "print(f'XGBoost RMSE: {rmse:.4f}')\n",
    "rmspe_value = rmspe(np.expm1(y_test), np.expm1(y_pred))\n",
    "print(f'XGBoost RMSPE: {rmspe_value:.2f}%')\n"
   ]
  },
  {
   "cell_type": "code",
   "execution_count": 16,
   "metadata": {},
   "outputs": [
    {
     "data": {
      "image/png": "[encoded data removed]",
      "text/plain": [
       "<Figure size 1000x500 with 1 Axes>"
      ]
     },
     "metadata": {},
     "output_type": "display_data"
    }
   ],
   "source": [
    "import matplotlib.pyplot as plt\n",
    "import seaborn as sns\n",
    "\n",
    "# 获取特征重要性\n",
    "feature_importance = pd.DataFrame({\n",
    "    'Feature': X_train.columns,\n",
    "    'Importance': model.feature_importances_\n",
    "}).sort_values(by='Importance', ascending=False)\n",
    "\n",
    "# 画出前 10 个重要特征\n",
    "plt.figure(figsize=(10, 5))\n",
    "sns.barplot(x='Importance', y='Feature', data=feature_importance.head(10))\n",
    "plt.title('Top 10 Feature Importances in XGBoost')\n",
    "plt.show()\n"
   ]
  },
  {
   "cell_type": "markdown",
   "metadata": {},
   "source": [
    "## Random Forest "
   ]
  },
  {
   "cell_type": "code",
   "execution_count": 17,
   "metadata": {},
   "outputs": [
    {
     "name": "stdout",
     "output_type": "stream",
     "text": [
      "Random Forest RMSE: 41461055.9061\n",
      "Random Forest RMSPE: 1545.46%\n"
     ]
    }
   ],
   "source": [
    "from sklearn.ensemble import RandomForestRegressor\n",
    "rf_model = RandomForestRegressor(n_estimators=100, max_depth=10, random_state=42, n_jobs=-1)\n",
    "rf_model.fit(X_train, y_train)\n",
    "y_pred = rf_model.predict(X_test)\n",
    "rmse = np.sqrt(mean_squared_error(np.expm1(y_test), np.expm1(y_pred)))\n",
    "print(f'Random Forest RMSE: {rmse:.4f}')\n",
    "rmspe_value = rmspe(np.expm1(y_test), np.expm1(y_pred))\n",
    "print(f'Random Forest RMSPE: {rmspe_value:.2f}%')\n"
   ]
  },
  {
   "cell_type": "code",
   "execution_count": 18,
   "metadata": {},
   "outputs": [
    {
     "data": {
      "image/png": "[encoded data removed]",
      "text/plain": [
       "<Figure size 1000x500 with 1 Axes>"
      ]
     },
     "metadata": {},
     "output_type": "display_data"
    }
   ],
   "source": [
    "import matplotlib.pyplot as plt\n",
    "import seaborn as sns\n",
    "\n",
    "# 获取特征重要性\n",
    "feature_importance = pd.DataFrame({\n",
    "    'Feature': X_train.columns,\n",
    "    'Importance': rf_model.feature_importances_\n",
    "}).sort_values(by='Importance', ascending=False)\n",
    "\n",
    "plt.figure(figsize=(10, 5))\n",
    "sns.barplot(x='Importance', y='Feature', data=feature_importance.head(10))\n",
    "plt.title('Top 10 Feature Importances in Random Forest')\n",
    "plt.show()\n"
   ]
  },
  {
   "cell_type": "markdown",
   "metadata": {},
   "source": [
    "## MLP (deep learning)"
   ]
  },
  {
   "cell_type": "code",
   "execution_count": 19,
   "metadata": {},
   "outputs": [
    {
     "name": "stdout",
     "output_type": "stream",
     "text": [
      "Epoch 1/100\n"
     ]
    },
    {
     "name": "stderr",
     "output_type": "stream",
     "text": [
      "/opt/anaconda3/lib/python3.11/site-packages/keras/src/layers/core/dense.py:87: UserWarning: Do not pass an `input_shape`/`input_dim` argument to a layer. When using Sequential models, prefer using an `Input(shape)` object as the first layer in the model instead.\n",
      "  super().__init__(activity_regularizer=activity_regularizer, **kwargs)\n"
     ]
    },
    {
     "name": "stdout",
     "output_type": "stream",
     "text": [
      "\u001b[1m121/121\u001b[0m \u001b[32m━━━━━━━━━━━━━━━━━━━━\u001b[0m\u001b[37m\u001b[0m \u001b[1m0s\u001b[0m 937us/step - loss: 116.6974 - val_loss: 5.3227\n",
      "Epoch 2/100\n",
      "\u001b[1m121/121\u001b[0m \u001b[32m━━━━━━━━━━━━━━━━━━━━\u001b[0m\u001b[37m\u001b[0m \u001b[1m0s\u001b[0m 539us/step - loss: 6.3371 - val_loss: 4.7371\n",
      "Epoch 3/100\n",
      "\u001b[1m121/121\u001b[0m \u001b[32m━━━━━━━━━━━━━━━━━━━━\u001b[0m\u001b[37m\u001b[0m \u001b[1m0s\u001b[0m 540us/step - loss: 4.8997 - val_loss: 4.2475\n",
      "Epoch 4/100\n",
      "\u001b[1m121/121\u001b[0m \u001b[32m━━━━━━━━━━━━━━━━━━━━\u001b[0m\u001b[37m\u001b[0m \u001b[1m0s\u001b[0m 538us/step - loss: 4.4196 - val_loss: 3.6814\n",
      "Epoch 5/100\n",
      "\u001b[1m121/121\u001b[0m \u001b[32m━━━━━━━━━━━━━━━━━━━━\u001b[0m\u001b[37m\u001b[0m \u001b[1m0s\u001b[0m 544us/step - loss: 4.2301 - val_loss: 4.2144\n",
      "Epoch 6/100\n",
      "\u001b[1m121/121\u001b[0m \u001b[32m━━━━━━━━━━━━━━━━━━━━\u001b[0m\u001b[37m\u001b[0m \u001b[1m0s\u001b[0m 601us/step - loss: 3.9828 - val_loss: 3.4718\n",
      "Epoch 7/100\n",
      "\u001b[1m121/121\u001b[0m \u001b[32m━━━━━━━━━━━━━━━━━━━━\u001b[0m\u001b[37m\u001b[0m \u001b[1m0s\u001b[0m 584us/step - loss: 3.7372 - val_loss: 3.5275\n",
      "Epoch 8/100\n",
      "\u001b[1m121/121\u001b[0m \u001b[32m━━━━━━━━━━━━━━━━━━━━\u001b[0m\u001b[37m\u001b[0m \u001b[1m0s\u001b[0m 552us/step - loss: 3.7500 - val_loss: 3.2315\n",
      "Epoch 9/100\n",
      "\u001b[1m121/121\u001b[0m \u001b[32m━━━━━━━━━━━━━━━━━━━━\u001b[0m\u001b[37m\u001b[0m \u001b[1m0s\u001b[0m 535us/step - loss: 3.4840 - val_loss: 2.9904\n",
      "Epoch 10/100\n",
      "\u001b[1m121/121\u001b[0m \u001b[32m━━━━━━━━━━━━━━━━━━━━\u001b[0m\u001b[37m\u001b[0m \u001b[1m0s\u001b[0m 538us/step - loss: 3.4370 - val_loss: 3.0826\n",
      "Epoch 11/100\n",
      "\u001b[1m121/121\u001b[0m \u001b[32m━━━━━━━━━━━━━━━━━━━━\u001b[0m\u001b[37m\u001b[0m \u001b[1m0s\u001b[0m 565us/step - loss: 3.1810 - val_loss: 2.9572\n",
      "Epoch 12/100\n",
      "\u001b[1m121/121\u001b[0m \u001b[32m━━━━━━━━━━━━━━━━━━━━\u001b[0m\u001b[37m\u001b[0m \u001b[1m0s\u001b[0m 597us/step - loss: 3.0094 - val_loss: 2.9950\n",
      "Epoch 13/100\n",
      "\u001b[1m121/121\u001b[0m \u001b[32m━━━━━━━━━━━━━━━━━━━━\u001b[0m\u001b[37m\u001b[0m \u001b[1m0s\u001b[0m 548us/step - loss: 3.0755 - val_loss: 3.0993\n",
      "Epoch 14/100\n",
      "\u001b[1m121/121\u001b[0m \u001b[32m━━━━━━━━━━━━━━━━━━━━\u001b[0m\u001b[37m\u001b[0m \u001b[1m0s\u001b[0m 540us/step - loss: 2.8881 - val_loss: 3.5197\n",
      "Epoch 15/100\n",
      "\u001b[1m121/121\u001b[0m \u001b[32m━━━━━━━━━━━━━━━━━━━━\u001b[0m\u001b[37m\u001b[0m \u001b[1m0s\u001b[0m 560us/step - loss: 3.0480 - val_loss: 2.7931\n",
      "Epoch 16/100\n",
      "\u001b[1m121/121\u001b[0m \u001b[32m━━━━━━━━━━━━━━━━━━━━\u001b[0m\u001b[37m\u001b[0m \u001b[1m0s\u001b[0m 590us/step - loss: 2.7697 - val_loss: 2.7876\n",
      "Epoch 17/100\n",
      "\u001b[1m121/121\u001b[0m \u001b[32m━━━━━━━━━━━━━━━━━━━━\u001b[0m\u001b[37m\u001b[0m \u001b[1m0s\u001b[0m 543us/step - loss: 2.7354 - val_loss: 3.0775\n",
      "Epoch 18/100\n",
      "\u001b[1m121/121\u001b[0m \u001b[32m━━━━━━━━━━━━━━━━━━━━\u001b[0m\u001b[37m\u001b[0m \u001b[1m0s\u001b[0m 532us/step - loss: 2.9161 - val_loss: 2.7397\n",
      "Epoch 19/100\n",
      "\u001b[1m121/121\u001b[0m \u001b[32m━━━━━━━━━━━━━━━━━━━━\u001b[0m\u001b[37m\u001b[0m \u001b[1m0s\u001b[0m 536us/step - loss: 2.6727 - val_loss: 2.8728\n",
      "Epoch 20/100\n",
      "\u001b[1m121/121\u001b[0m \u001b[32m━━━━━━━━━━━━━━━━━━━━\u001b[0m\u001b[37m\u001b[0m \u001b[1m0s\u001b[0m 536us/step - loss: 2.5020 - val_loss: 3.0712\n",
      "Epoch 21/100\n",
      "\u001b[1m121/121\u001b[0m \u001b[32m━━━━━━━━━━━━━━━━━━━━\u001b[0m\u001b[37m\u001b[0m \u001b[1m0s\u001b[0m 549us/step - loss: 2.6313 - val_loss: 3.1616\n",
      "Epoch 22/100\n",
      "\u001b[1m121/121\u001b[0m \u001b[32m━━━━━━━━━━━━━━━━━━━━\u001b[0m\u001b[37m\u001b[0m \u001b[1m0s\u001b[0m 982us/step - loss: 2.5819 - val_loss: 3.7290\n",
      "Epoch 23/100\n",
      "\u001b[1m121/121\u001b[0m \u001b[32m━━━━━━━━━━━━━━━━━━━━\u001b[0m\u001b[37m\u001b[0m \u001b[1m0s\u001b[0m 574us/step - loss: 2.4353 - val_loss: 2.7864\n",
      "Epoch 24/100\n",
      "\u001b[1m121/121\u001b[0m \u001b[32m━━━━━━━━━━━━━━━━━━━━\u001b[0m\u001b[37m\u001b[0m \u001b[1m0s\u001b[0m 544us/step - loss: 2.5779 - val_loss: 3.1470\n",
      "Epoch 25/100\n",
      "\u001b[1m121/121\u001b[0m \u001b[32m━━━━━━━━━━━━━━━━━━━━\u001b[0m\u001b[37m\u001b[0m \u001b[1m0s\u001b[0m 540us/step - loss: 2.3819 - val_loss: 3.1212\n",
      "Epoch 26/100\n",
      "\u001b[1m121/121\u001b[0m \u001b[32m━━━━━━━━━━━━━━━━━━━━\u001b[0m\u001b[37m\u001b[0m \u001b[1m0s\u001b[0m 535us/step - loss: 2.3354 - val_loss: 3.0749\n",
      "Epoch 27/100\n",
      "\u001b[1m121/121\u001b[0m \u001b[32m━━━━━━━━━━━━━━━━━━━━\u001b[0m\u001b[37m\u001b[0m \u001b[1m0s\u001b[0m 531us/step - loss: 2.2586 - val_loss: 3.4741\n",
      "Epoch 28/100\n",
      "\u001b[1m121/121\u001b[0m \u001b[32m━━━━━━━━━━━━━━━━━━━━\u001b[0m\u001b[37m\u001b[0m \u001b[1m0s\u001b[0m 591us/step - loss: 2.4193 - val_loss: 3.1440\n",
      "Epoch 29/100\n",
      "\u001b[1m121/121\u001b[0m \u001b[32m━━━━━━━━━━━━━━━━━━━━\u001b[0m\u001b[37m\u001b[0m \u001b[1m0s\u001b[0m 611us/step - loss: 2.3642 - val_loss: 3.3980\n",
      "Epoch 30/100\n",
      "\u001b[1m121/121\u001b[0m \u001b[32m━━━━━━━━━━━━━━━━━━━━\u001b[0m\u001b[37m\u001b[0m \u001b[1m0s\u001b[0m 547us/step - loss: 2.1982 - val_loss: 3.2171\n",
      "Epoch 31/100\n",
      "\u001b[1m121/121\u001b[0m \u001b[32m━━━━━━━━━━━━━━━━━━━━\u001b[0m\u001b[37m\u001b[0m \u001b[1m0s\u001b[0m 546us/step - loss: 2.2445 - val_loss: 2.8425\n",
      "Epoch 32/100\n",
      "\u001b[1m121/121\u001b[0m \u001b[32m━━━━━━━━━━━━━━━━━━━━\u001b[0m\u001b[37m\u001b[0m \u001b[1m0s\u001b[0m 544us/step - loss: 2.1315 - val_loss: 3.0634\n",
      "Epoch 33/100\n",
      "\u001b[1m121/121\u001b[0m \u001b[32m━━━━━━━━━━━━━━━━━━━━\u001b[0m\u001b[37m\u001b[0m \u001b[1m0s\u001b[0m 581us/step - loss: 2.2326 - val_loss: 3.3059\n",
      "Epoch 34/100\n",
      "\u001b[1m121/121\u001b[0m \u001b[32m━━━━━━━━━━━━━━━━━━━━\u001b[0m\u001b[37m\u001b[0m \u001b[1m0s\u001b[0m 551us/step - loss: 2.1813 - val_loss: 2.8296\n",
      "Epoch 35/100\n",
      "\u001b[1m121/121\u001b[0m \u001b[32m━━━━━━━━━━━━━━━━━━━━\u001b[0m\u001b[37m\u001b[0m \u001b[1m0s\u001b[0m 538us/step - loss: 2.2164 - val_loss: 3.1981\n",
      "Epoch 36/100\n",
      "\u001b[1m121/121\u001b[0m \u001b[32m━━━━━━━━━━━━━━━━━━━━\u001b[0m\u001b[37m\u001b[0m \u001b[1m0s\u001b[0m 531us/step - loss: 2.1723 - val_loss: 2.8017\n",
      "Epoch 37/100\n",
      "\u001b[1m121/121\u001b[0m \u001b[32m━━━━━━━━━━━━━━━━━━━━\u001b[0m\u001b[37m\u001b[0m \u001b[1m0s\u001b[0m 581us/step - loss: 2.1689 - val_loss: 2.6447\n",
      "Epoch 38/100\n",
      "\u001b[1m121/121\u001b[0m \u001b[32m━━━━━━━━━━━━━━━━━━━━\u001b[0m\u001b[37m\u001b[0m \u001b[1m0s\u001b[0m 555us/step - loss: 2.2167 - val_loss: 3.0510\n",
      "Epoch 39/100\n",
      "\u001b[1m121/121\u001b[0m \u001b[32m━━━━━━━━━━━━━━━━━━━━\u001b[0m\u001b[37m\u001b[0m \u001b[1m0s\u001b[0m 541us/step - loss: 2.0841 - val_loss: 2.6473\n",
      "Epoch 40/100\n",
      "\u001b[1m121/121\u001b[0m \u001b[32m━━━━━━━━━━━━━━━━━━━━\u001b[0m\u001b[37m\u001b[0m \u001b[1m0s\u001b[0m 537us/step - loss: 2.1081 - val_loss: 2.9410\n",
      "Epoch 41/100\n",
      "\u001b[1m121/121\u001b[0m \u001b[32m━━━━━━━━━━━━━━━━━━━━\u001b[0m\u001b[37m\u001b[0m \u001b[1m0s\u001b[0m 902us/step - loss: 2.0441 - val_loss: 2.7054\n",
      "Epoch 42/100\n",
      "\u001b[1m121/121\u001b[0m \u001b[32m━━━━━━━━━━━━━━━━━━━━\u001b[0m\u001b[37m\u001b[0m \u001b[1m0s\u001b[0m 552us/step - loss: 2.0519 - val_loss: 2.9544\n",
      "Epoch 43/100\n",
      "\u001b[1m121/121\u001b[0m \u001b[32m━━━━━━━━━━━━━━━━━━━━\u001b[0m\u001b[37m\u001b[0m \u001b[1m0s\u001b[0m 534us/step - loss: 2.0357 - val_loss: 3.5427\n",
      "Epoch 44/100\n",
      "\u001b[1m121/121\u001b[0m \u001b[32m━━━━━━━━━━━━━━━━━━━━\u001b[0m\u001b[37m\u001b[0m \u001b[1m0s\u001b[0m 538us/step - loss: 2.0186 - val_loss: 2.4761\n",
      "Epoch 45/100\n",
      "\u001b[1m121/121\u001b[0m \u001b[32m━━━━━━━━━━━━━━━━━━━━\u001b[0m\u001b[37m\u001b[0m \u001b[1m0s\u001b[0m 566us/step - loss: 1.9790 - val_loss: 2.5895\n",
      "Epoch 46/100\n",
      "\u001b[1m121/121\u001b[0m \u001b[32m━━━━━━━━━━━━━━━━━━━━\u001b[0m\u001b[37m\u001b[0m \u001b[1m0s\u001b[0m 564us/step - loss: 2.0116 - val_loss: 2.7969\n",
      "Epoch 47/100\n",
      "\u001b[1m121/121\u001b[0m \u001b[32m━━━━━━━━━━━━━━━━━━━━\u001b[0m\u001b[37m\u001b[0m \u001b[1m0s\u001b[0m 538us/step - loss: 2.0053 - val_loss: 3.1972\n",
      "Epoch 48/100\n",
      "\u001b[1m121/121\u001b[0m \u001b[32m━━━━━━━━━━━━━━━━━━━━\u001b[0m\u001b[37m\u001b[0m \u001b[1m0s\u001b[0m 534us/step - loss: 1.7708 - val_loss: 2.5412\n",
      "Epoch 49/100\n",
      "\u001b[1m121/121\u001b[0m \u001b[32m━━━━━━━━━━━━━━━━━━━━\u001b[0m\u001b[37m\u001b[0m \u001b[1m0s\u001b[0m 550us/step - loss: 1.8927 - val_loss: 2.6464\n",
      "Epoch 50/100\n",
      "\u001b[1m121/121\u001b[0m \u001b[32m━━━━━━━━━━━━━━━━━━━━\u001b[0m\u001b[37m\u001b[0m \u001b[1m0s\u001b[0m 552us/step - loss: 1.9198 - val_loss: 3.0270\n",
      "Epoch 51/100\n",
      "\u001b[1m121/121\u001b[0m \u001b[32m━━━━━━━━━━━━━━━━━━━━\u001b[0m\u001b[37m\u001b[0m \u001b[1m0s\u001b[0m 540us/step - loss: 1.9043 - val_loss: 2.9495\n",
      "Epoch 52/100\n",
      "\u001b[1m121/121\u001b[0m \u001b[32m━━━━━━━━━━━━━━━━━━━━\u001b[0m\u001b[37m\u001b[0m \u001b[1m0s\u001b[0m 538us/step - loss: 1.9771 - val_loss: 3.9671\n",
      "Epoch 53/100\n",
      "\u001b[1m121/121\u001b[0m \u001b[32m━━━━━━━━━━━━━━━━━━━━\u001b[0m\u001b[37m\u001b[0m \u001b[1m0s\u001b[0m 574us/step - loss: 2.0300 - val_loss: 2.7697\n",
      "Epoch 54/100\n",
      "\u001b[1m121/121\u001b[0m \u001b[32m━━━━━━━━━━━━━━━━━━━━\u001b[0m\u001b[37m\u001b[0m \u001b[1m0s\u001b[0m 616us/step - loss: 1.7063 - val_loss: 2.4380\n",
      "Epoch 55/100\n",
      "\u001b[1m121/121\u001b[0m \u001b[32m━━━━━━━━━━━━━━━━━━━━\u001b[0m\u001b[37m\u001b[0m \u001b[1m0s\u001b[0m 546us/step - loss: 1.8438 - val_loss: 2.5870\n",
      "Epoch 56/100\n",
      "\u001b[1m121/121\u001b[0m \u001b[32m━━━━━━━━━━━━━━━━━━━━\u001b[0m\u001b[37m\u001b[0m \u001b[1m0s\u001b[0m 540us/step - loss: 1.8358 - val_loss: 2.6488\n",
      "Epoch 57/100\n",
      "\u001b[1m121/121\u001b[0m \u001b[32m━━━━━━━━━━━━━━━━━━━━\u001b[0m\u001b[37m\u001b[0m \u001b[1m0s\u001b[0m 535us/step - loss: 1.8055 - val_loss: 2.7341\n",
      "Epoch 58/100\n",
      "\u001b[1m121/121\u001b[0m \u001b[32m━━━━━━━━━━━━━━━━━━━━\u001b[0m\u001b[37m\u001b[0m \u001b[1m0s\u001b[0m 536us/step - loss: 1.8769 - val_loss: 3.0077\n",
      "Epoch 59/100\n",
      "\u001b[1m121/121\u001b[0m \u001b[32m━━━━━━━━━━━━━━━━━━━━\u001b[0m\u001b[37m\u001b[0m \u001b[1m0s\u001b[0m 542us/step - loss: 1.9188 - val_loss: 2.4519\n",
      "Epoch 60/100\n",
      "\u001b[1m121/121\u001b[0m \u001b[32m━━━━━━━━━━━━━━━━━━━━\u001b[0m\u001b[37m\u001b[0m \u001b[1m0s\u001b[0m 839us/step - loss: 1.7543 - val_loss: 2.4865\n",
      "Epoch 61/100\n",
      "\u001b[1m121/121\u001b[0m \u001b[32m━━━━━━━━━━━━━━━━━━━━\u001b[0m\u001b[37m\u001b[0m \u001b[1m0s\u001b[0m 874us/step - loss: 1.9295 - val_loss: 2.4425\n",
      "Epoch 62/100\n",
      "\u001b[1m121/121\u001b[0m \u001b[32m━━━━━━━━━━━━━━━━━━━━\u001b[0m\u001b[37m\u001b[0m \u001b[1m0s\u001b[0m 552us/step - loss: 1.7186 - val_loss: 2.8672\n",
      "Epoch 63/100\n",
      "\u001b[1m121/121\u001b[0m \u001b[32m━━━━━━━━━━━━━━━━━━━━\u001b[0m\u001b[37m\u001b[0m \u001b[1m0s\u001b[0m 564us/step - loss: 1.8039 - val_loss: 2.5168\n",
      "Epoch 64/100\n",
      "\u001b[1m121/121\u001b[0m \u001b[32m━━━━━━━━━━━━━━━━━━━━\u001b[0m\u001b[37m\u001b[0m \u001b[1m0s\u001b[0m 558us/step - loss: 1.7674 - val_loss: 2.6262\n",
      "Epoch 65/100\n",
      "\u001b[1m121/121\u001b[0m \u001b[32m━━━━━━━━━━━━━━━━━━━━\u001b[0m\u001b[37m\u001b[0m \u001b[1m0s\u001b[0m 550us/step - loss: 1.8346 - val_loss: 2.6113\n",
      "Epoch 66/100\n",
      "\u001b[1m121/121\u001b[0m \u001b[32m━━━━━━━━━━━━━━━━━━━━\u001b[0m\u001b[37m\u001b[0m \u001b[1m0s\u001b[0m 551us/step - loss: 1.7632 - val_loss: 2.5854\n",
      "Epoch 67/100\n",
      "\u001b[1m121/121\u001b[0m \u001b[32m━━━━━━━━━━━━━━━━━━━━\u001b[0m\u001b[37m\u001b[0m \u001b[1m0s\u001b[0m 537us/step - loss: 1.7711 - val_loss: 2.4046\n",
      "Epoch 68/100\n",
      "\u001b[1m121/121\u001b[0m \u001b[32m━━━━━━━━━━━━━━━━━━━━\u001b[0m\u001b[37m\u001b[0m \u001b[1m0s\u001b[0m 568us/step - loss: 1.8359 - val_loss: 2.5684\n",
      "Epoch 69/100\n",
      "\u001b[1m121/121\u001b[0m \u001b[32m━━━━━━━━━━━━━━━━━━━━\u001b[0m\u001b[37m\u001b[0m \u001b[1m0s\u001b[0m 577us/step - loss: 1.6954 - val_loss: 2.9222\n",
      "Epoch 70/100\n",
      "\u001b[1m121/121\u001b[0m \u001b[32m━━━━━━━━━━━━━━━━━━━━\u001b[0m\u001b[37m\u001b[0m \u001b[1m0s\u001b[0m 547us/step - loss: 1.7158 - val_loss: 2.5293\n",
      "Epoch 71/100\n",
      "\u001b[1m121/121\u001b[0m \u001b[32m━━━━━━━━━━━━━━━━━━━━\u001b[0m\u001b[37m\u001b[0m \u001b[1m0s\u001b[0m 548us/step - loss: 1.6453 - val_loss: 2.6204\n",
      "Epoch 72/100\n",
      "\u001b[1m121/121\u001b[0m \u001b[32m━━━━━━━━━━━━━━━━━━━━\u001b[0m\u001b[37m\u001b[0m \u001b[1m0s\u001b[0m 545us/step - loss: 1.6249 - val_loss: 2.8003\n",
      "Epoch 73/100\n",
      "\u001b[1m121/121\u001b[0m \u001b[32m━━━━━━━━━━━━━━━━━━━━\u001b[0m\u001b[37m\u001b[0m \u001b[1m0s\u001b[0m 550us/step - loss: 1.7252 - val_loss: 2.9976\n",
      "Epoch 74/100\n",
      "\u001b[1m121/121\u001b[0m \u001b[32m━━━━━━━━━━━━━━━━━━━━\u001b[0m\u001b[37m\u001b[0m \u001b[1m0s\u001b[0m 562us/step - loss: 1.7261 - val_loss: 2.8334\n",
      "Epoch 75/100\n",
      "\u001b[1m121/121\u001b[0m \u001b[32m━━━━━━━━━━━━━━━━━━━━\u001b[0m\u001b[37m\u001b[0m \u001b[1m0s\u001b[0m 550us/step - loss: 1.7278 - val_loss: 2.7966\n",
      "Epoch 76/100\n",
      "\u001b[1m121/121\u001b[0m \u001b[32m━━━━━━━━━━━━━━━━━━━━\u001b[0m\u001b[37m\u001b[0m \u001b[1m0s\u001b[0m 547us/step - loss: 1.7021 - val_loss: 2.5016\n",
      "Epoch 77/100\n",
      "\u001b[1m121/121\u001b[0m \u001b[32m━━━━━━━━━━━━━━━━━━━━\u001b[0m\u001b[37m\u001b[0m \u001b[1m0s\u001b[0m 545us/step - loss: 1.6621 - val_loss: 2.6802\n",
      "Epoch 78/100\n",
      "\u001b[1m121/121\u001b[0m \u001b[32m━━━━━━━━━━━━━━━━━━━━\u001b[0m\u001b[37m\u001b[0m \u001b[1m0s\u001b[0m 555us/step - loss: 1.6467 - val_loss: 2.8004\n",
      "Epoch 79/100\n",
      "\u001b[1m121/121\u001b[0m \u001b[32m━━━━━━━━━━━━━━━━━━━━\u001b[0m\u001b[37m\u001b[0m \u001b[1m0s\u001b[0m 579us/step - loss: 1.6700 - val_loss: 2.6755\n",
      "Epoch 80/100\n",
      "\u001b[1m121/121\u001b[0m \u001b[32m━━━━━━━━━━━━━━━━━━━━\u001b[0m\u001b[37m\u001b[0m \u001b[1m0s\u001b[0m 548us/step - loss: 1.6331 - val_loss: 2.7012\n",
      "Epoch 81/100\n",
      "\u001b[1m121/121\u001b[0m \u001b[32m━━━━━━━━━━━━━━━━━━━━\u001b[0m\u001b[37m\u001b[0m \u001b[1m0s\u001b[0m 551us/step - loss: 1.6634 - val_loss: 2.4566\n",
      "Epoch 82/100\n",
      "\u001b[1m121/121\u001b[0m \u001b[32m━━━━━━━━━━━━━━━━━━━━\u001b[0m\u001b[37m\u001b[0m \u001b[1m0s\u001b[0m 542us/step - loss: 1.6598 - val_loss: 2.6775\n",
      "Epoch 83/100\n",
      "\u001b[1m121/121\u001b[0m \u001b[32m━━━━━━━━━━━━━━━━━━━━\u001b[0m\u001b[37m\u001b[0m \u001b[1m0s\u001b[0m 543us/step - loss: 1.7052 - val_loss: 2.5610\n",
      "Epoch 84/100\n",
      "\u001b[1m121/121\u001b[0m \u001b[32m━━━━━━━━━━━━━━━━━━━━\u001b[0m\u001b[37m\u001b[0m \u001b[1m0s\u001b[0m 870us/step - loss: 1.5489 - val_loss: 2.5127\n",
      "Epoch 85/100\n",
      "\u001b[1m121/121\u001b[0m \u001b[32m━━━━━━━━━━━━━━━━━━━━\u001b[0m\u001b[37m\u001b[0m \u001b[1m0s\u001b[0m 552us/step - loss: 1.6479 - val_loss: 3.5948\n",
      "Epoch 86/100\n",
      "\u001b[1m121/121\u001b[0m \u001b[32m━━━━━━━━━━━━━━━━━━━━\u001b[0m\u001b[37m\u001b[0m \u001b[1m0s\u001b[0m 551us/step - loss: 1.6745 - val_loss: 2.4451\n",
      "Epoch 87/100\n",
      "\u001b[1m121/121\u001b[0m \u001b[32m━━━━━━━━━━━━━━━━━━━━\u001b[0m\u001b[37m\u001b[0m \u001b[1m0s\u001b[0m 542us/step - loss: 1.6837 - val_loss: 2.5746\n",
      "Epoch 88/100\n",
      "\u001b[1m121/121\u001b[0m \u001b[32m━━━━━━━━━━━━━━━━━━━━\u001b[0m\u001b[37m\u001b[0m \u001b[1m0s\u001b[0m 546us/step - loss: 1.6838 - val_loss: 2.5088\n",
      "Epoch 89/100\n",
      "\u001b[1m121/121\u001b[0m \u001b[32m━━━━━━━━━━━━━━━━━━━━\u001b[0m\u001b[37m\u001b[0m \u001b[1m0s\u001b[0m 544us/step - loss: 1.5697 - val_loss: 2.6629\n",
      "Epoch 90/100\n",
      "\u001b[1m121/121\u001b[0m \u001b[32m━━━━━━━━━━━━━━━━━━━━\u001b[0m\u001b[37m\u001b[0m \u001b[1m0s\u001b[0m 564us/step - loss: 1.5190 - val_loss: 2.8615\n",
      "Epoch 91/100\n",
      "\u001b[1m121/121\u001b[0m \u001b[32m━━━━━━━━━━━━━━━━━━━━\u001b[0m\u001b[37m\u001b[0m \u001b[1m0s\u001b[0m 586us/step - loss: 1.6299 - val_loss: 2.7823\n",
      "Epoch 92/100\n",
      "\u001b[1m121/121\u001b[0m \u001b[32m━━━━━━━━━━━━━━━━━━━━\u001b[0m\u001b[37m\u001b[0m \u001b[1m0s\u001b[0m 709us/step - loss: 1.5302 - val_loss: 2.6319\n",
      "Epoch 93/100\n",
      "\u001b[1m121/121\u001b[0m \u001b[32m━━━━━━━━━━━━━━━━━━━━\u001b[0m\u001b[37m\u001b[0m \u001b[1m0s\u001b[0m 549us/step - loss: 1.4410 - val_loss: 2.7296\n",
      "Epoch 94/100\n",
      "\u001b[1m121/121\u001b[0m \u001b[32m━━━━━━━━━━━━━━━━━━━━\u001b[0m\u001b[37m\u001b[0m \u001b[1m0s\u001b[0m 551us/step - loss: 1.5975 - val_loss: 2.6541\n",
      "Epoch 95/100\n",
      "\u001b[1m121/121\u001b[0m \u001b[32m━━━━━━━━━━━━━━━━━━━━\u001b[0m\u001b[37m\u001b[0m \u001b[1m0s\u001b[0m 542us/step - loss: 1.4495 - val_loss: 2.6236\n",
      "Epoch 96/100\n",
      "\u001b[1m121/121\u001b[0m \u001b[32m━━━━━━━━━━━━━━━━━━━━\u001b[0m\u001b[37m\u001b[0m \u001b[1m0s\u001b[0m 553us/step - loss: 1.4910 - val_loss: 2.7589\n",
      "Epoch 97/100\n",
      "\u001b[1m121/121\u001b[0m \u001b[32m━━━━━━━━━━━━━━━━━━━━\u001b[0m\u001b[37m\u001b[0m \u001b[1m0s\u001b[0m 548us/step - loss: 1.4799 - val_loss: 2.5674\n",
      "Epoch 98/100\n",
      "\u001b[1m121/121\u001b[0m \u001b[32m━━━━━━━━━━━━━━━━━━━━\u001b[0m\u001b[37m\u001b[0m \u001b[1m0s\u001b[0m 550us/step - loss: 1.5501 - val_loss: 2.6758\n",
      "Epoch 99/100\n",
      "\u001b[1m121/121\u001b[0m \u001b[32m━━━━━━━━━━━━━━━━━━━━\u001b[0m\u001b[37m\u001b[0m \u001b[1m0s\u001b[0m 546us/step - loss: 1.4529 - val_loss: 2.5832\n",
      "Epoch 100/100\n",
      "\u001b[1m121/121\u001b[0m \u001b[32m━━━━━━━━━━━━━━━━━━━━\u001b[0m\u001b[37m\u001b[0m \u001b[1m0s\u001b[0m 545us/step - loss: 1.4942 - val_loss: 2.5434\n",
      "\u001b[1m34/34\u001b[0m \u001b[32m━━━━━━━━━━━━━━━━━━━━\u001b[0m\u001b[37m\u001b[0m \u001b[1m0s\u001b[0m 717us/step\n"
     ]
    }
   ],
   "source": [
    "import tensorflow as tf\n",
    "from tensorflow.keras.models import Sequential\n",
    "from tensorflow.keras.layers import Dense, Dropout\n",
    "from sklearn.preprocessing import StandardScaler\n",
    "from sklearn.model_selection import train_test_split\n",
    "\n",
    "# 归一化数据（MLP 需要标准化输入）\n",
    "scaler = StandardScaler()\n",
    "X_scaled = scaler.fit_transform(X)\n",
    "\n",
    "# 划分训练 & 测试集\n",
    "X_train, X_test, y_train, y_test = train_test_split(X_scaled, y, test_size=0.2, random_state=42)\n",
    "\n",
    "# 构建 MLP 模型\n",
    "mlp_model = Sequential([\n",
    "    Dense(128, activation='relu', input_shape=(X_train.shape[1],)),\n",
    "    Dropout(0.2),\n",
    "    Dense(64, activation='relu'),\n",
    "    Dense(32, activation='relu'),\n",
    "    Dense(1)  # 输出票房预测\n",
    "])\n",
    "\n",
    "# 编译模型\n",
    "mlp_model.compile(optimizer='adam', loss='mse')\n",
    "\n",
    "# 训练模型\n",
    "mlp_model.fit(X_train, y_train, epochs=100, batch_size=32, validation_split=0.1, verbose=1)\n",
    "\n",
    "# 预测票房\n",
    "y_pred_mlp = mlp_model.predict(X_test)\n",
    "\n",
    "\n"
   ]
  },
  {
   "cell_type": "code",
   "execution_count": 20,
   "metadata": {},
   "outputs": [
    {
     "name": "stdout",
     "output_type": "stream",
     "text": [
      "Random Forest RMSE: 50095204.7969\n",
      "Random Forest RMSPE: 8964.80%\n"
     ]
    }
   ],
   "source": [
    "rmse = np.sqrt(mean_squared_error(np.expm1(y_test), np.expm1(y_pred_mlp)))\n",
    "print(f'Random Forest RMSE: {rmse:.4f}')\n",
    "rmspe_value = rmspe(np.expm1(y_test), pd.Series(np.expm1(y_pred_mlp).flatten()))\n",
    "print(f'Random Forest RMSPE: {rmspe_value:.2f}%')"
   ]
  }
 ],
 "metadata": {
  "kernelspec": {
   "display_name": "base",
   "language": "python",
   "name": "python3"
  },
  "language_info": {
   "codemirror_mode": {
    "name": "ipython",
    "version": 3
   },
   "file_extension": ".py",
   "mimetype": "text/x-python",
   "name": "python",
   "nbconvert_exporter": "python",
   "pygments_lexer": "ipython3",
   "version": "3.11.7"
  }
 },
 "nbformat": 4,
 "nbformat_minor": 2
}

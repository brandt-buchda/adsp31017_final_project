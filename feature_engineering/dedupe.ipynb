{
 "cells": [
  {
   "cell_type": "markdown",
   "id": "0",
   "metadata": {},
   "source": [
    "# De-Duplicate Data"
   ]
  },
  {
   "cell_type": "code",
   "execution_count": null,
   "id": "1",
   "metadata": {},
   "outputs": [],
   "source": [
    "import pandas as pd\n",
    "import os\n",
    "from IPython.core.display import Markdown\n",
    "\n",
    "from utilites import column_stats\n",
    "\n",
    "pd.set_option('display.max_columns', None)\n",
    "pd.set_option('display.max_rows', 20)"
   ]
  },
  {
   "cell_type": "code",
   "execution_count": null,
   "id": "2",
   "metadata": {},
   "outputs": [],
   "source": [
    "class DataSource:\n",
    "    def __init__(self, path):\n",
    "        self._path = path\n",
    "        self._df = pd.read_csv(path, low_memory=False)\n",
    "        self._keys = []\n",
    "\n",
    "    def head(self):\n",
    "        return self._df.head()\n",
    "\n",
    "    @property\n",
    "    def df(self):\n",
    "        return self._df.copy()\n",
    "\n",
    "    @df.setter\n",
    "    def df(self, df):\n",
    "        self._df = df\n",
    "\n",
    "    @property\n",
    "    def keys(self):\n",
    "        return self._keys\n",
    "\n",
    "    @keys.setter\n",
    "    def keys(self, *primary_keys):\n",
    "        if isinstance(primary_keys[0], list):\n",
    "            self._keys = primary_keys\n",
    "        else:\n",
    "            self._keys = [item for sublist in primary_keys for item in sublist]\n",
    "\n",
    "data_sources = {}"
   ]
  },
  {
   "cell_type": "markdown",
   "id": "3",
   "metadata": {},
   "source": [
    "### Movies Metadata"
   ]
  },
  {
   "cell_type": "code",
   "execution_count": null,
   "id": "4",
   "metadata": {},
   "outputs": [],
   "source": [
    "data_sources[\"Movies Metadata\"] = DataSource(\"../data/movies_metadata.csv\")\n",
    "display(data_sources[\"Movies Metadata\"].head())"
   ]
  },
  {
   "cell_type": "code",
   "execution_count": null,
   "id": "5",
   "metadata": {},
   "outputs": [],
   "source": [
    "data_sources[\"Movies Metadata\"].keys = [\"id\"], [\"imdb_id\"], [\"title\", \"release_date\"]"
   ]
  },
  {
   "cell_type": "markdown",
   "id": "6",
   "metadata": {},
   "source": [
    "### Rotten Tomatoes Movie Reviews"
   ]
  },
  {
   "cell_type": "code",
   "execution_count": null,
   "id": "7",
   "metadata": {},
   "outputs": [],
   "source": [
    "data_sources[\"Rotten Tomatoes Movie Reviews\"] = DataSource(\"../data/rotten_tomatoes_movie_reviews.csv\")\n",
    "display(data_sources[\"Rotten Tomatoes Movie Reviews\"].head())"
   ]
  },
  {
   "cell_type": "code",
   "execution_count": null,
   "id": "8",
   "metadata": {},
   "outputs": [],
   "source": [
    "data_sources[\"Rotten Tomatoes Movie Reviews\"].keys = [\"reviewId\"]"
   ]
  },
  {
   "cell_type": "markdown",
   "id": "9",
   "metadata": {},
   "source": [
    "### Rotten Tomatoes Movies"
   ]
  },
  {
   "cell_type": "code",
   "execution_count": null,
   "id": "10",
   "metadata": {},
   "outputs": [],
   "source": [
    "data_sources[\"Rotten Tomatoes Movies\"] = DataSource(\"../data/rotten_tomatoes_movies.csv\")\n",
    "display(data_sources[\"Rotten Tomatoes Movies\"].head())"
   ]
  },
  {
   "cell_type": "code",
   "execution_count": null,
   "id": "11",
   "metadata": {},
   "outputs": [],
   "source": [
    "data_sources[\"Rotten Tomatoes Movies\"].keys = [\"id\"], [\"title\", \"releaseDateTheaters\"]"
   ]
  },
  {
   "cell_type": "markdown",
   "id": "12",
   "metadata": {},
   "source": [
    "## Keywords"
   ]
  },
  {
   "cell_type": "code",
   "execution_count": null,
   "id": "13",
   "metadata": {},
   "outputs": [],
   "source": [
    "data_sources[\"Keywords\"] = DataSource(\"../data/keywords.csv\")\n",
    "display(data_sources[\"Keywords\"].head())"
   ]
  },
  {
   "cell_type": "code",
   "execution_count": null,
   "id": "14",
   "metadata": {},
   "outputs": [],
   "source": [
    "data_sources[\"Keywords\"].keys = [\"id\"]"
   ]
  },
  {
   "cell_type": "markdown",
   "id": "15",
   "metadata": {},
   "source": [
    "## Links"
   ]
  },
  {
   "cell_type": "code",
   "execution_count": null,
   "id": "16",
   "metadata": {},
   "outputs": [],
   "source": [
    "data_sources[\"Links\"] = DataSource(\"../data/links.csv\")\n",
    "display(data_sources[\"Links\"].head())"
   ]
  },
  {
   "cell_type": "code",
   "execution_count": null,
   "id": "17",
   "metadata": {},
   "outputs": [],
   "source": [
    "data_sources[\"Links\"].keys = [\"movieId\"], [\"imdbId\"], [\"tmdbId\"]"
   ]
  },
  {
   "cell_type": "markdown",
   "id": "18",
   "metadata": {},
   "source": [
    "## Ratings"
   ]
  },
  {
   "cell_type": "code",
   "execution_count": null,
   "id": "19",
   "metadata": {},
   "outputs": [],
   "source": [
    "data_sources[\"Ratings\"] = DataSource(\"../data/ratings.csv\")\n",
    "display(data_sources[\"Ratings\"].head())"
   ]
  },
  {
   "cell_type": "code",
   "execution_count": null,
   "id": "20",
   "metadata": {},
   "outputs": [],
   "source": [
    "data_sources[\"Ratings\"].keys = [\"userId\", \"movieId\"]"
   ]
  },
  {
   "cell_type": "markdown",
   "id": "21",
   "metadata": {},
   "source": [
    "## Wikipedia Movie Plots"
   ]
  },
  {
   "cell_type": "code",
   "execution_count": null,
   "id": "22",
   "metadata": {},
   "outputs": [],
   "source": [
    "data_sources[\"Wiki Movie Plots\"] = DataSource(\"../data/wiki_movie_plots.csv\")\n",
    "display(data_sources[\"Wiki Movie Plots\"].head())"
   ]
  },
  {
   "cell_type": "code",
   "execution_count": null,
   "id": "23",
   "metadata": {},
   "outputs": [],
   "source": [
    "data_sources[\"Wiki Movie Plots\"].keys = [\"Wiki Page\"], [\"Title\", \"Director\"]"
   ]
  },
  {
   "cell_type": "markdown",
   "id": "24",
   "metadata": {},
   "source": [
    "## Clean and Remove Duplicates in the Keys"
   ]
  },
  {
   "cell_type": "code",
   "execution_count": null,
   "id": "25",
   "metadata": {},
   "outputs": [],
   "source": [
    "for name, data_source in data_sources.items():\n",
    "    display(Markdown(f\"### {name} Key(s) Stats\" ))\n",
    "    display(column_stats(\n",
    "        data_source.df[sum(data_source.keys, [])],\n",
    "        metrics=[\"Data Type\", \"Count\", \"Unique Values\", \"Unique Rate\"]))\n",
    "\n",
    "    df = data_source.df\n",
    "    duplicates = {}\n",
    "    for key in data_source.keys:\n",
    "        duplicates[str(key)] = df[df.duplicated(subset=key, keep=False)]\n",
    "        duplicates[str(key)] = duplicates[str(key)].sort_values(by=key)\n",
    "        df.drop_duplicates(subset=key, inplace=True)\n",
    "\n",
    "    # Write-back cleaned df\n",
    "    data_source.df = df\n",
    "\n",
    "    display(Markdown(f\"### {name} Key(s) Stats (Cleaned)\"))\n",
    "    display(column_stats(\n",
    "        df[sum(data_source.keys, [])],\n",
    "        metrics=[\"Data Type\", \"Count\", \"Unique Values\", \"Unique Rate\"]))\n",
    "\n",
    "    for key, duplicate in duplicates.items():\n",
    "        display(Markdown(f\"#### Duplicates of Key: {str(key)}\"))\n",
    "        display(duplicate)"
   ]
  },
  {
   "cell_type": "code",
   "execution_count": null,
   "id": "26",
   "metadata": {},
   "outputs": [],
   "source": [
    "for data_source in data_sources.values():\n",
    "    file_name = os.path.basename(data_source._path)\n",
    "\n",
    "    data_source.df.to_csv(f\"./deduped_data/{file_name}\", index=False)"
   ]
  }
 ],
 "metadata": {
  "kernelspec": {
   "display_name": "Python 3",
   "language": "python",
   "name": "python3"
  },
  "language_info": {
   "codemirror_mode": {
    "name": "ipython",
    "version": 2
   },
   "file_extension": ".py",
   "mimetype": "text/x-python",
   "name": "python",
   "nbconvert_exporter": "python",
   "pygments_lexer": "ipython2",
   "version": "2.7.6"
  }
 },
 "nbformat": 4,
 "nbformat_minor": 5
}

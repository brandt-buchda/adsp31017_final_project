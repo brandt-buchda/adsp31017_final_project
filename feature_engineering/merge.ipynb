{
 "cells": [
  {
   "cell_type": "markdown",
   "id": "0",
   "metadata": {},
   "source": [
    "# Merge Data Sources"
   ]
  },
  {
   "cell_type": "code",
   "execution_count": null,
   "id": "1",
   "metadata": {},
   "outputs": [],
   "source": [
    "import pandas as pd\n",
    "import os\n",
    "from IPython.core.display import Markdown\n",
    "import re\n",
    "from utilites import column_stats\n",
    "\n",
    "pd.set_option('display.max_columns', None)\n",
    "pd.set_option('display.max_rows', 20)"
   ]
  },
  {
   "cell_type": "code",
   "execution_count": null,
   "id": "2",
   "metadata": {},
   "outputs": [],
   "source": [
    "rt_movies = pd.read_csv(\"./deduped_data/rotten_tomatoes_movies.csv\", low_memory=False)\n",
    "movies_metadata = pd.read_csv(\"./deduped_data/movies_metadata.csv\", low_memory=False)\n",
    "wiki_plots = pd.read_csv(\"./deduped_data/wiki_movie_plots.csv\", low_memory=False)"
   ]
  },
  {
   "cell_type": "code",
   "execution_count": null,
   "id": "3",
   "metadata": {},
   "outputs": [],
   "source": [
    "def standardize_column_names(df):\n",
    "    def to_snake_case(name):\n",
    "        name = re.sub(r'[\\s/-]+', '_', name)\n",
    "        name = re.sub(r'([a-z])([A-Z])', r'\\1_\\2', name)\n",
    "        name = re.sub(r'__+', '_', name)\n",
    "        return name.lower().strip('_')\n",
    "\n",
    "    df.columns = [to_snake_case(col) for col in df.columns]\n",
    "    return df"
   ]
  },
  {
   "cell_type": "code",
   "execution_count": null,
   "id": "4",
   "metadata": {},
   "outputs": [],
   "source": [
    "rt_movies = standardize_column_names(rt_movies)\n",
    "movies_metadata = standardize_column_names(movies_metadata)\n",
    "wiki_plots = standardize_column_names(wiki_plots)"
   ]
  },
  {
   "cell_type": "code",
   "execution_count": null,
   "id": "5",
   "metadata": {},
   "outputs": [],
   "source": [
    "merged_df = rt_movies.merge(\n",
    "    movies_metadata,\n",
    "    how='left',\n",
    "    left_on=['title', 'release_date_theaters'],\n",
    "    right_on=['title', 'release_date'])\n",
    "\n",
    "print(merged_df.shape)"
   ]
  },
  {
   "cell_type": "code",
   "execution_count": null,
   "id": "6",
   "metadata": {},
   "outputs": [],
   "source": [
    "merged_df = merged_df.merge(\n",
    "    wiki_plots,\n",
    "    how='left',\n",
    "    on=['title', 'director'])"
   ]
  },
  {
   "cell_type": "code",
   "execution_count": null,
   "id": "7",
   "metadata": {},
   "outputs": [],
   "source": [
    "merged_df.head()"
   ]
  },
  {
   "cell_type": "code",
   "execution_count": null,
   "id": "8",
   "metadata": {},
   "outputs": [],
   "source": [
    "column_stats(merged_df)"
   ]
  },
  {
   "cell_type": "code",
   "execution_count": null,
   "id": "9",
   "metadata": {},
   "outputs": [],
   "source": [
    "merged_df.to_csv(\"./merged_data/merged.csv\", index=False)"
   ]
  }
 ],
 "metadata": {
  "kernelspec": {
   "display_name": "Python 3",
   "language": "python",
   "name": "python3"
  },
  "language_info": {
   "codemirror_mode": {
    "name": "ipython",
    "version": 2
   },
   "file_extension": ".py",
   "mimetype": "text/x-python",
   "name": "python",
   "nbconvert_exporter": "python",
   "pygments_lexer": "ipython2",
   "version": "2.7.6"
  }
 },
 "nbformat": 4,
 "nbformat_minor": 5
}

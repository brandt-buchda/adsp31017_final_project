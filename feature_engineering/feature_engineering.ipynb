{
 "cells": [
  {
   "cell_type": "markdown",
   "id": "0",
   "metadata": {},
   "source": [
    "# Feature Engineering"
   ]
  },
  {
   "cell_type": "code",
   "execution_count": null,
   "id": "1",
   "metadata": {},
   "outputs": [],
   "source": [
    "import pandas as pd\n",
    "import numpy as np\n",
    "import matplotlib.pyplot as plt\n",
    "import seaborn as sns\n",
    "import cpi\n",
    "from fredapi import Fred\n",
    "import time\n",
    "from scipy import stats\n",
    "\n",
    "from utilites import column_stats"
   ]
  },
  {
   "cell_type": "code",
   "execution_count": null,
   "id": "2",
   "metadata": {},
   "outputs": [],
   "source": [
    "df = pd.read_csv(\"final_data.csv\", low_memory=False)\n",
    "display(column_stats(df))"
   ]
  },
  {
   "cell_type": "markdown",
   "id": "3",
   "metadata": {},
   "source": [
    "### Create CPI Feature"
   ]
  },
  {
   "cell_type": "code",
   "execution_count": null,
   "id": "4",
   "metadata": {},
   "outputs": [],
   "source": [
    "# fred = Fred(api_key='<YOUR-API-KEY-HERE>')\n",
    "#\n",
    "# cpi_series = fred.get_series('CPIAUCSL', observation_start='1977-01-01', observation_end='2024-12-31')\n",
    "#\n",
    "# cpi_df = pd.DataFrame(cpi_series)\n",
    "# cpi_df.columns = ['CPI']\n",
    "#\n",
    "# cpi_df.to_csv('external/cpi_data.csv')\n",
    "\n",
    "cpi_df = pd.read_csv(\"external/cpi_data.csv\", names=[\"date\", \"cpi\"], skiprows=1)\n",
    "cpi_df[\"date\"] = pd.to_datetime(cpi_df[\"date\"])\n",
    "cpi_df.set_index(\"date\", inplace=True)\n",
    "cpi_yearly_df = cpi_df.resample(\"YE\").mean()\n",
    "cpi_yearly_df[\"year\"] = cpi_yearly_df.index.year\n",
    "cpi_yearly_df.set_index(\"year\", inplace=True)\n",
    "display(cpi_yearly_df)"
   ]
  },
  {
   "cell_type": "code",
   "execution_count": null,
   "id": "5",
   "metadata": {},
   "outputs": [],
   "source": [
    "df = df.merge(cpi_yearly_df, left_on=\"release_year\", right_index=True, how=\"left\")\n",
    "display(df)"
   ]
  },
  {
   "cell_type": "markdown",
   "id": "6",
   "metadata": {},
   "source": [
    "### Create Box Office Gross Feature"
   ]
  },
  {
   "cell_type": "code",
   "execution_count": null,
   "id": "7",
   "metadata": {},
   "outputs": [],
   "source": [
    "box_office_gross_df = pd.read_csv(\"external/box_office_revenue.csv\", low_memory=False)\n",
    "box_office_gross_df.set_index(\"year\", inplace=True)\n",
    "display(box_office_gross_df)"
   ]
  },
  {
   "cell_type": "code",
   "execution_count": null,
   "id": "8",
   "metadata": {},
   "outputs": [],
   "source": [
    "df = df.merge(box_office_gross_df, left_on=\"release_year\", right_index=True, how=\"left\")\n",
    "display(df)"
   ]
  },
  {
   "cell_type": "markdown",
   "id": "9",
   "metadata": {},
   "source": [
    "### Create Box Office Adjusted Feature"
   ]
  },
  {
   "cell_type": "code",
   "execution_count": null,
   "id": "10",
   "metadata": {},
   "outputs": [],
   "source": [
    "latest_cpi = cpi_yearly_df[\"cpi\"].iloc[-1]\n",
    "latest_gross = df[\"box_office_gross\"].iloc[-1]\n",
    "\n",
    "df[\"box_office_adjusted\"] = (\n",
    "    df[\"box_office\"]\n",
    "    * (latest_cpi / df[\"cpi\"])\n",
    "    * (latest_gross / df[\"box_office_gross\"])\n",
    ")\n",
    "\n",
    "display(df)"
   ]
  },
  {
   "cell_type": "code",
   "execution_count": null,
   "id": "11",
   "metadata": {},
   "outputs": [],
   "source": [
    "sns.boxplot(df, x=\"box_office\")\n",
    "plt.xscale(\"log\")\n",
    "plt.show()\n",
    "\n",
    "sns.boxplot(df, x=\"box_office_adjusted\")\n",
    "plt.xscale(\"log\")"
   ]
  },
  {
   "cell_type": "markdown",
   "id": "12",
   "metadata": {},
   "source": [
    "## Encode and Impute Rating"
   ]
  },
  {
   "cell_type": "code",
   "execution_count": null,
   "id": "13",
   "metadata": {},
   "outputs": [],
   "source": [
    "print(df[\"rating\"].unique())\n",
    "\n",
    "def encode_rating(rating):\n",
    "    rating_map = {\n",
    "        np.nan: 0,\n",
    "        \"pg\": 1,\n",
    "        \"tvpg\": 2,\n",
    "        \"pg-13\": 3,\n",
    "        \"nc-17\": 4,\n",
    "        \"tvma\": 5,\n",
    "        \"r\": 6\n",
    "    }\n",
    "    return rating_map[rating]\n",
    "\n",
    "df[\"rating\"] = df[\"rating\"].apply(lambda x: encode_rating(x))"
   ]
  },
  {
   "cell_type": "code",
   "execution_count": null,
   "id": "14",
   "metadata": {},
   "outputs": [],
   "source": [
    "display(column_stats(df))"
   ]
  },
  {
   "cell_type": "code",
   "execution_count": null,
   "id": "15",
   "metadata": {},
   "outputs": [],
   "source": [
    "import pandas as pd\n",
    "import xgboost as xgb\n",
    "from sklearn.model_selection import train_test_split\n",
    "from sklearn.metrics import accuracy_score\n",
    "\n",
    "# Assuming df is your DataFrame\n",
    "X = df.drop(columns=[\"box_office\", \"box_office_adjusted\"])  # Features\n",
    "y = df[\"box_office_adjusted\"]  # Target variable\n",
    "\n",
    "# Train-test split\n",
    "X_train, X_test, y_train, y_test = train_test_split(X, y, test_size=0.2, random_state=42)\n"
   ]
  },
  {
   "cell_type": "code",
   "execution_count": null,
   "id": "16",
   "metadata": {},
   "outputs": [],
   "source": [
    "params = {\n",
    "    \"objective\": \"reg:squarederror\",  # Standard for regression\n",
    "    \"eval_metric\": \"rmse\",\n",
    "    \"max_depth\": 6,\n",
    "    \"learning_rate\": 0.1,\n",
    "    \"n_estimators\": 100,\n",
    "}\n",
    "\n",
    "model = xgb.XGBRegressor(**params)\n",
    "model.fit(X_train, y_train)\n"
   ]
  },
  {
   "cell_type": "code",
   "execution_count": null,
   "id": "17",
   "metadata": {},
   "outputs": [],
   "source": [
    "y_pred = model.predict(X_test)\n",
    "accuracy = accuracy_score(y_test, y_pred)\n",
    "print(f\"Accuracy: {accuracy:.4f}\")\n"
   ]
  },
  {
   "cell_type": "code",
   "execution_count": null,
   "id": "18",
   "metadata": {},
   "outputs": [],
   "source": [
    "# Compute Z-scores\n",
    "df[\"z_score\"] = np.abs(stats.zscore(df[\"box_office\"]))\n",
    "\n",
    "# Define threshold (e.g., 3 standard deviations)\n",
    "threshold = 3\n",
    "\n",
    "# Separate outliers and non-outliers\n",
    "df_outliers = df[df[\"z_score\"] > threshold]\n",
    "df_clean = df[df[\"z_score\"] <= threshold]\n",
    "\n",
    "# Drop Z-score column if no longer needed\n",
    "df_clean = df_clean.drop(columns=[\"z_score\"])\n",
    "df_outliers = df_outliers.drop(columns=[\"z_score\"])"
   ]
  },
  {
   "cell_type": "code",
   "execution_count": null,
   "id": "19",
   "metadata": {},
   "outputs": [],
   "source": [
    "display(df_outliers)"
   ]
  },
  {
   "cell_type": "code",
   "execution_count": null,
   "id": "20",
   "metadata": {},
   "outputs": [],
   "source": [
    "fred = Fred(api_key='66aa21adb0605067be10836b1b41c061')"
   ]
  },
  {
   "cell_type": "code",
   "execution_count": null,
   "id": "21",
   "metadata": {},
   "outputs": [],
   "source": [
    "# Download the CPI data from FRED\n",
    "cpi_series = fred.get_series('CPIAUCSL', observation_start='1977-01-01', observation_end='2024-12-31')\n",
    "\n",
    "# Convert the series to DataFrame while preserving the date index\n",
    "cpi_df = pd.DataFrame(cpi_series)\n",
    "cpi_df.columns = ['CPI']  # Name the column explicitly\n",
    "\n",
    "# Save to CSV with the index (which contains the dates)\n",
    "cpi_df.to_csv('external/cpi_data.csv')\n",
    "\n",
    "# Load the saved data\n",
    "cpi_df = pd.read_csv(\"external/cpi_data.csv\")\n",
    "\n",
    "# The first column should now be the dates\n",
    "# Rename it if it has a generic name\n",
    "if cpi_df.columns[0] == 'Unnamed: 0':\n",
    "    cpi_df.rename(columns={'Unnamed: 0': 'date'}, inplace=True)\n",
    "\n",
    "# Convert date to datetime\n",
    "cpi_df['date'] = pd.to_datetime(cpi_df['date'])\n",
    "cpi_df.set_index('date', inplace=True)\n",
    "\n",
    "# Aggregate to yearly CPI (taking the mean of each year's monthly values)\n",
    "cpi_yearly = cpi_df.resample('Y').mean()\n",
    "cpi_yearly.index = cpi_yearly.index.year  # Convert index to integer years\n",
    "\n",
    "# Make sure release_year is an integer\n",
    "df['release_year'] = df['release_year'].astype(int)\n",
    "\n",
    "# Get the latest CPI value\n",
    "current_cpi = cpi_df['CPI'].iloc[-1]  # Or use cpi_yearly['CPI'].iloc[-1] for end-of-year value\n",
    "\n",
    "# Adjust box office for inflation\n",
    "df['box_office_adjusted'] = df.apply(\n",
    "    lambda row: row['box_office'] * (current_cpi / cpi_yearly.loc[row['release_year'], 'CPI'])\n",
    "    if row['release_year'] in cpi_yearly.index else None,\n",
    "    axis=1\n",
    ")"
   ]
  },
  {
   "cell_type": "code",
   "execution_count": null,
   "id": "22",
   "metadata": {},
   "outputs": [],
   "source": [
    "display(df)"
   ]
  },
  {
   "cell_type": "code",
   "execution_count": null,
   "id": "23",
   "metadata": {},
   "outputs": [],
   "source": [
    "display(column_stats(df))"
   ]
  },
  {
   "cell_type": "code",
   "execution_count": null,
   "id": "24",
   "metadata": {},
   "outputs": [],
   "source": [
    "sns.boxplot(df, x=\"box_office\")\n",
    "plt.xscale(\"log\")\n",
    "plt.show()\n",
    "\n",
    "\n",
    "sns.boxplot(df, x=\"box_office_adjusted\")\n",
    "plt.xscale(\"log\")"
   ]
  }
 ],
 "metadata": {
  "kernelspec": {
   "display_name": "Python 3",
   "language": "python",
   "name": "python3"
  },
  "language_info": {
   "codemirror_mode": {
    "name": "ipython",
    "version": 2
   },
   "file_extension": ".py",
   "mimetype": "text/x-python",
   "name": "python",
   "nbconvert_exporter": "python",
   "pygments_lexer": "ipython2",
   "version": "2.7.6"
  }
 },
 "nbformat": 4,
 "nbformat_minor": 5
}

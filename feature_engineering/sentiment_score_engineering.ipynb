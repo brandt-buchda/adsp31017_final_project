{
 "cells": [
  {
   "cell_type": "code",
   "execution_count": null,
   "metadata": {
    "colab": {
     "base_uri": "https://localhost:8080/"
    },
    "executionInfo": {
     "elapsed": 16309,
     "status": "ok",
     "timestamp": 1740864590053,
     "user": {
      "displayName": "Katy K",
      "userId": "11675745211869709317"
     },
     "user_tz": 360
    },
    "id": "CRiZeTUO94ka",
    "outputId": "8fa7971d-de3e-4834-ac5f-038c3f17c362"
   },
   "outputs": [],
   "source": [
    "from google.colab import drive\n",
    "drive.mount('/content/drive')"
   ]
  },
  {
   "cell_type": "code",
   "execution_count": null,
   "metadata": {
    "executionInfo": {
     "elapsed": 4,
     "status": "ok",
     "timestamp": 1740864595003,
     "user": {
      "displayName": "Katy K",
      "userId": "11675745211869709317"
     },
     "user_tz": 360
    },
    "id": "uQP28Lny-zUM"
   },
   "outputs": [],
   "source": [
    "path_to_final_data = '/content/drive/MyDrive/Machine Learning Final Project/final_data.csv'"
   ]
  },
  {
   "cell_type": "code",
   "execution_count": null,
   "metadata": {
    "executionInfo": {
     "elapsed": 15790,
     "status": "ok",
     "timestamp": 1740864612677,
     "user": {
      "displayName": "Katy K",
      "userId": "11675745211869709317"
     },
     "user_tz": 360
    },
    "id": "1SwO37AU-60N"
   },
   "outputs": [],
   "source": [
    "import pandas as pd\n",
    "from transformers import pipeline"
   ]
  },
  {
   "cell_type": "code",
   "execution_count": null,
   "metadata": {
    "executionInfo": {
     "elapsed": 1515,
     "status": "ok",
     "timestamp": 1740864614189,
     "user": {
      "displayName": "Katy K",
      "userId": "11675745211869709317"
     },
     "user_tz": 360
    },
    "id": "2unQR6g4BzRA"
   },
   "outputs": [],
   "source": [
    "final_df = pd.read_csv(path_to_final_data)"
   ]
  },
  {
   "cell_type": "code",
   "execution_count": null,
   "metadata": {
    "colab": {
     "base_uri": "https://localhost:8080/",
     "height": 608
    },
    "executionInfo": {
     "elapsed": 365,
     "status": "ok",
     "timestamp": 1740864622853,
     "user": {
      "displayName": "Katy K",
      "userId": "11675745211869709317"
     },
     "user_tz": 360
    },
    "id": "8uVvmq3gB4YU",
    "outputId": "0b7231fb-e13e-4760-c419-f989af7119e9"
   },
   "outputs": [],
   "source": [
    "final_df.head()"
   ]
  },
  {
   "cell_type": "code",
   "execution_count": null,
   "metadata": {
    "colab": {
     "base_uri": "https://localhost:8080/"
    },
    "executionInfo": {
     "elapsed": 6,
     "status": "ok",
     "timestamp": 1740864623825,
     "user": {
      "displayName": "Katy K",
      "userId": "11675745211869709317"
     },
     "user_tz": 360
    },
    "id": "9NwOKS65Ikdj",
    "outputId": "73123bc0-c3fb-4b8e-a37e-86bc65f7437d"
   },
   "outputs": [],
   "source": [
    "final_df.columns"
   ]
  },
  {
   "cell_type": "markdown",
   "metadata": {
    "id": "v-07L5Q9npfV"
   },
   "source": [
    "Different Types of Sentiment Analyzers\n",
    "1. distilBERT sentiment (positive/negative)\n",
    "2. roBERTa (28 emotions)\n",
    "3. XLM-roBERTa (7 emotions)"
   ]
  },
  {
   "cell_type": "code",
   "execution_count": null,
   "metadata": {
    "colab": {
     "base_uri": "https://localhost:8080/"
    },
    "executionInfo": {
     "elapsed": 314,
     "status": "ok",
     "timestamp": 1740864642239,
     "user": {
      "displayName": "Katy K",
      "userId": "11675745211869709317"
     },
     "user_tz": 360
    },
    "id": "OYQ39fJS_DAb",
    "outputId": "17528af4-b35c-49bd-d260-2a1a790eab48"
   },
   "outputs": [],
   "source": [
    "# distilbert sentiment analysis (positive/negative)\n",
    "sentiment_analyzer = pipeline('sentiment-analysis', model='distilbert-base-uncased-finetuned-sst-2-english')\n",
    "\n",
    "def analyze_sentiment_truncate(text, max_length=512):\n",
    "  # max length of text it supports is 512\n",
    "    truncated_text = text[:max_length]\n",
    "    result = sentiment_analyzer(truncated_text)\n",
    "    return result[0]['label'], result[0]['score']"
   ]
  },
  {
   "cell_type": "code",
   "execution_count": null,
   "metadata": {
    "colab": {
     "base_uri": "https://localhost:8080/",
     "height": 347,
     "referenced_widgets": [
      "1d417417089a4c11a24152b83c66f49d",
      "d5460b98f2c14d959e26a40d2714fe51",
      "320329e6e95d4f3ca89bf2b19acadff3",
      "365749fff2dc431dbe195c53b93d63cd",
      "ab33a39e91af48b3a0a710b789ba4ea1",
      "5e29326ebfa24a21b60ed5fbfebe5026",
      "55de2a1fd1f6464abea9c718d7d7dde5",
      "0b61fbc9d1c24560a36c871527f7676e",
      "78a5fe83f68448c683aa4a89b87bd61f",
      "3f72570148e2472d81652814a789736a",
      "3120fe1e61d64946a9974a464fe94d1b",
      "725c01b00904466a955a40acbe5d1b7a",
      "557d101a1fad482ab6dbc224aa383485",
      "cc0a8b98dc7143e8b6e5187a6700ff11",
      "715a5c0d38a04f8e80eb23051cb3ca40",
      "f6686dfa8b504e36aa5dc09aa9ff3a8a",
      "66abd22db0ec4c93819fb8471b5dd7dd",
      "16f6c544a56047f29a5a663bd8b3e101",
      "d1d298ee30574ee9ab7898fe774527c1",
      "860f43c9f043453d84222c87f4baff68",
      "d8047ecec48c4854b8a345caa939542d",
      "7ff17aa1d7854061a961fd4fb031590d",
      "2aa7f9615a7d43ff80222bf49493e55a",
      "4dc796a2997f41feae991a1d42679936",
      "c3473e8b5e3b4405931c5275ebef69e0",
      "199d5884bbb845429ca4a77328f9d71b",
      "572903545d3d42ffb5e209e84a2ece1f",
      "16b34213340744eda37c63e52258b39e",
      "128733fbe96e4a499e0aa7190836260e",
      "5fa7910af28e442bb23d0f1ec79aa46e",
      "f314e2678e8247809008966ed3b81e76",
      "7e40641a6e884ba0af5bc36216c4f99c",
      "2ec539c280804ebaa5c3beab1c5a3266",
      "b6c893d8b295470eabf29aa2395d6775",
      "a463ae0abb7746c9837ef1726830400f",
      "f90cc202306e404591f3aaf36d757a9e",
      "d8128041dc5f43159d0dacea62327eb9",
      "caff5ec6a3cd45fcbe87e88f64550ba9",
      "2a983f0cda984cf49e0a1ce859e3e770",
      "87a88afe26254119a54d0095a00026ac",
      "a1f25521bc7141c2b0dc7bc60fbf2f86",
      "7a0b9a487eac45a48274b45d85de66e8",
      "1d40dc457ba44b3e863d4e1a6fff9fdd",
      "c5a3d515be7b442bba46a624d1815a26",
      "7dbcaf1344cb4035b847e311420efeab",
      "f9b2e52ea364465d81cc58ad9bb96324",
      "0a65276205d24950bdd5b270e17af4aa",
      "b3c44d028886488783b5f8af8b1cb4e4",
      "8f0d09ee5162487f8ae4464049109d10",
      "1b339f85c3e24a2fb8c75e81e45eb481",
      "65265f52b6454d1881542302e8851e47",
      "458dfd1619484e9dba2dbeeae3199a82",
      "47db6bc6cf7a4d69beb86d74521516d7",
      "6acab5e9e45e42e0a66e3eb436eef02a",
      "78a3cb3812b345a5a02904c45285587e",
      "aa10b7a1cd2b4b88b8cec000a78af73f",
      "e3d6d63317fe48799558204f8126bbe8",
      "5be056033dfb43bd94abfaf639d2b826",
      "b653d34ea35f48a994f30e1a8ee29af5",
      "81eafc22c2f44cff84e7f60fe69152c5",
      "0641726d5f6e47d3a427dc414b968eb9",
      "fbb477f81686487084327109669b243c",
      "b6c58237c0f04eb1af6f3fd7f65f3b22",
      "2b624b56f6ca4f5a972fad624b96447a",
      "33335b8b1eb34045b874eaff8a5a925b",
      "e580264804e04c45af35760f0e478a07",
      "ae93a54b54bd43358cca768448f55dd8",
      "cd85b3a67ef449c8816fbcbb5a967d3f",
      "6dacb26655b5403abebe6b454eb4da38",
      "510e85ad7bb548959facadf6e004d83c",
      "e8cd725b418e45569c65841e5409ac15",
      "0df4c49f4c374ed9ad6ea1163a19cf2c",
      "a28803b8e0d34dc9aa408b830c454036",
      "8ff04f936fb3400ebd67005081df0d9d",
      "79b51e26aaaa49a3845033551076a471",
      "f3faf23411f44f64ae939e01d5f95f05",
      "c641f3db6b23403b9be6a6b2771856ab",
      "1e122de240004998bf7d6afe7cbd3788",
      "282c006c5a5b4c42b792c8966615711c",
      "67cdbc06bf274485a38f06fc662614d4",
      "2f41654d3bae4724943f807750f251b5",
      "32a066a7892c47dba967f4834c366b1b",
      "d4ce447486d34e2b9fb374f49bb30e14",
      "d258059eae724eb38f832e9fd81d8efb",
      "a062eed065d4447194bbce934d93c865",
      "bd4aa40b2a3c4270a76c61b9c85055a8",
      "2c0f776cccd249c5819ba2a4452a5937",
      "3c2711518148425b96a292f14dee624f"
     ]
    },
    "executionInfo": {
     "elapsed": 4498,
     "status": "ok",
     "timestamp": 1740864654019,
     "user": {
      "displayName": "Katy K",
      "userId": "11675745211869709317"
     },
     "user_tz": 360
    },
    "id": "yW8O4PTRCsFD",
    "outputId": "886102fb-61b8-49c1-fbdc-4574c094b241"
   },
   "outputs": [],
   "source": [
    "# roBERTa emotion analysis (28 emotions)\n",
    "emotion_analyzer = pipeline('text-classification',\n",
    "                            model='j-hartmann/emotion-english-distilroberta-base',\n",
    "                            return_all_scores=True)\n",
    "\n",
    "def analyze_roberta_emotion(text, max_length=512):\n",
    "    # max length of text it supports is 512\n",
    "    truncated_text = text[:max_length]\n",
    "    emotions = emotion_analyzer(truncated_text)\n",
    "    emotion_scores = {item['label']: item['score'] for item in emotions[0]}\n",
    "    dominant_emotion = max(emotion_scores, key=emotion_scores.get)\n",
    "    return dominant_emotion, emotion_scores"
   ]
  },
  {
   "cell_type": "code",
   "execution_count": null,
   "metadata": {
    "colab": {
     "base_uri": "https://localhost:8080/"
    },
    "executionInfo": {
     "elapsed": 311,
     "status": "ok",
     "timestamp": 1740864771732,
     "user": {
      "displayName": "Katy K",
      "userId": "11675745211869709317"
     },
     "user_tz": 360
    },
    "id": "Kc4ogjceDuut",
    "outputId": "17dcde97-569e-4ab7-86f8-49b0baea5123"
   },
   "outputs": [],
   "source": [
    "#XLM-RoBERTa - Multi-Lingual Emotion Analysis (7 emotions)\n",
    "seven_emotion_analyzer = pipeline('text-classification',\n",
    "                                  model='bhadresh-savani/distilbert-base-uncased-emotion',\n",
    "                                  return_all_scores=True)\n",
    "\n",
    "def analyze_emotion(text, max_length=512):\n",
    "    # max length of text it supports is 512\n",
    "    truncated_text = text[:max_length]\n",
    "    emotions = seven_emotion_analyzer(truncated_text)\n",
    "    emotion_scores = {item['label']: item['score'] for item in emotions[0]}\n",
    "    unique_emotions = [item['label'] for item in emotions[0]]\n",
    "    dominant_emotion = max(emotion_scores, key=emotion_scores.get)\n",
    "    return dominant_emotion, emotion_scores"
   ]
  },
  {
   "cell_type": "code",
   "execution_count": null,
   "metadata": {
    "executionInfo": {
     "elapsed": 28651,
     "status": "ok",
     "timestamp": 1740864804252,
     "user": {
      "displayName": "Katy K",
      "userId": "11675745211869709317"
     },
     "user_tz": 360
    },
    "id": "y9FpRdUpFX4p"
   },
   "outputs": [],
   "source": [
    "final_df['Dominant_Emotion'], emotion_scores = zip(*final_df['plot'].apply(analyze_emotion))\n",
    "emotion_df = pd.json_normalize(emotion_scores)\n",
    "\n",
    "final_df = pd.concat([final_df, emotion_df], axis=1)"
   ]
  },
  {
   "cell_type": "code",
   "execution_count": null,
   "metadata": {
    "colab": {
     "base_uri": "https://localhost:8080/"
    },
    "executionInfo": {
     "elapsed": 7,
     "status": "ok",
     "timestamp": 1740864806595,
     "user": {
      "displayName": "Katy K",
      "userId": "11675745211869709317"
     },
     "user_tz": 360
    },
    "id": "llobxgJoDvPj",
    "outputId": "edb4a252-a89f-4354-e7f3-cbc97aa01ac2"
   },
   "outputs": [],
   "source": [
    "print(final_df.head())"
   ]
  },
  {
   "cell_type": "code",
   "execution_count": null,
   "metadata": {
    "executionInfo": {
     "elapsed": 628,
     "status": "ok",
     "timestamp": 1740864813136,
     "user": {
      "displayName": "Katy K",
      "userId": "11675745211869709317"
     },
     "user_tz": 360
    },
    "id": "sDr1o7iJoJCW"
   },
   "outputs": [],
   "source": [
    "final_df.to_csv('final_df_with_emotion_scores.csv', index=True)"
   ]
  },
  {
   "cell_type": "code",
   "execution_count": null,
   "metadata": {
    "id": "tfCZsvukJIzb"
   },
   "outputs": [],
   "source": []
  }
 ],
 "metadata": {
  "accelerator": "GPU",
  "colab": {
   "authorship_tag": "ABX9TyMLcJTqso4K1808IGbvlpR9",
   "gpuType": "T4",
   "machine_shape": "hm",
   "provenance": []
  },
  "kernelspec": {
   "display_name": "Python 3",
   "name": "python3"
  },
  "language_info": {
   "name": "python"
  }
 },
 "nbformat": 4,
 "nbformat_minor": 0
}

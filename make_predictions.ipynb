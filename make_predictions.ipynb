{
 "cells": [
  {
   "cell_type": "code",
   "execution_count": null,
   "id": "0",
   "metadata": {
    "jupyter": {
     "outputs_hidden": true
    }
   },
   "outputs": [],
   "source": [
    "import pandas as pd\n",
    "import xgboost as xgb\n",
    "from sklearn.model_selection import train_test_split, cross_validate\n",
    "from sklearn.preprocessing import StandardScaler\n",
    "from sklearn.metrics import accuracy_score, precision_score, recall_score, f1_score, classification_report\n",
    "import pickle\n",
    "import matplotlib.pyplot as plt\n",
    "from collections import Counter\n",
    "\n",
    "pd.set_option('display.width', 1000)"
   ]
  },
  {
   "cell_type": "code",
   "execution_count": null,
   "id": "1",
   "metadata": {},
   "outputs": [],
   "source": [
    "df = pd.read_csv(\"train.csv\", index_col=0)\n",
    "df.dropna(subset=[\"box_office\"], inplace=True)\n",
    "df = df[df[\"box_office\"] <= 5e8]\n",
    "display(df)"
   ]
  },
  {
   "cell_type": "markdown",
   "id": "2",
   "metadata": {},
   "source": [
    "## Classification Model"
   ]
  },
  {
   "cell_type": "code",
   "execution_count": null,
   "id": "3",
   "metadata": {},
   "outputs": [],
   "source": [
    "bins = [0, 1e6, 10e6, 50e6, 100e6, 200e6, 500e6]\n",
    "labels_dict = {\n",
    "    0: '(0) 0-1M',\n",
    "    1: '(1) 1-10M',\n",
    "    2: '(2) 10-50M',\n",
    "    3: '(3) 50-100M',\n",
    "    4: '(4) 100-200M',\n",
    "    5: '(5) 200M-500M'\n",
    "}\n",
    "\n",
    "df['box_office_category'] = pd.cut(df['box_office'], bins=bins, labels=labels_dict.keys(), right=False).astype(int)"
   ]
  },
  {
   "cell_type": "code",
   "execution_count": null,
   "id": "4",
   "metadata": {},
   "outputs": [],
   "source": [
    "X = df.drop(columns=['box_office_category', 'box_office'])\n",
    "y = df['box_office_category']\n",
    "\n",
    "X_train, X_test, y_train, y_test = train_test_split(X, y, test_size=0.2, random_state=42)\n",
    "\n",
    "scaler = StandardScaler()\n",
    "X_train = scaler.fit_transform(X_train)\n",
    "X_test = scaler.transform(X_test)\n",
    "\n",
    "class_counts = Counter(y_train)\n",
    "scale_weights = {cls: sum(class_counts.values()) / count for cls, count in class_counts.items()}\n",
    "sample_weights = y_train.apply(lambda label: scale_weights[label])\n",
    "\n",
    "xgb_model = xgb.XGBClassifier(\n",
    "    objective=\"multi:softmax\",\n",
    "    num_class=len(labels_dict),\n",
    "    subsample=0.7,\n",
    "    n_estimators=200,\n",
    "    max_depth=4,\n",
    "    learning_rate=0.05,\n",
    "    eval_metric=\"mlogloss\",\n",
    "    random_state=42\n",
    ")\n",
    "\n",
    "xgb_model.fit(X_train, y_train, sample_weight=sample_weights)\n",
    "\n",
    "scoring = {\n",
    "    'accuracy': 'accuracy',\n",
    "    'precision_macro': 'precision_macro',\n",
    "    'recall_macro': 'recall_macro',\n",
    "    'f1_macro': 'f1_macro'\n",
    "}\n",
    "cv_metrics = cross_validate(xgb_model, X_train, y_train, cv=3, scoring=scoring, return_train_score=True)\n",
    "print(\"CV Metrics:\", cv_metrics)\n",
    "\n",
    "y_test_pred = xgb_model.predict(X_test)\n",
    "print(\"Test Accuracy:\", accuracy_score(y_test, y_test_pred))\n",
    "print(\"Test Precision:\", precision_score(y_test, y_test_pred, average='macro'))\n",
    "print(\"Test Recall:\", recall_score(y_test, y_test_pred, average='macro'))\n",
    "print(\"Test F1 Score:\", f1_score(y_test, y_test_pred, average='macro'))\n",
    "print(classification_report(y_test, y_test_pred, target_names=list(labels_dict.values())))\n",
    "\n",
    "with open(\"final_model.pkl\", \"wb\") as f:\n",
    "    pickle.dump(xgb_model, f)\n",
    "\n",
    "importance_df = pd.DataFrame({'Feature': X.columns, 'Importance': xgb_model.feature_importances_})\n",
    "top_n = importance_df.sort_values(by='Importance', ascending=False).head(20)\n",
    "plt.figure(figsize=(10, 6))\n",
    "plt.barh(top_n['Feature'], top_n['Importance'])\n",
    "plt.xlabel(\"Feature Importance\")\n",
    "plt.title(\"Top 20 Features\")\n",
    "plt.gca().invert_yaxis()\n",
    "plt.show()\n"
   ]
  },
  {
   "cell_type": "markdown",
   "id": "5",
   "metadata": {},
   "source": [
    "## Run The Model For Predictions"
   ]
  },
  {
   "cell_type": "code",
   "execution_count": null,
   "id": "6",
   "metadata": {},
   "outputs": [],
   "source": [
    "with open('models/classification.pkl', 'rb') as f:\n",
    "    model = pickle.load(f)\n",
    "\n",
    "df = pd.read_csv(\"train.csv\", index_col=0)\n",
    "df.drop(columns=['box_office'], inplace=True)\n",
    "\n",
    "df[\"predictions\"] = model.predict(df)\n",
    "df[\"predictions\"].to_csv(\"predictions.csv\", index=True)"
   ]
  }
 ],
 "metadata": {
  "kernelspec": {
   "display_name": "Python 3 (ipykernel)",
   "language": "python",
   "name": "python3"
  },
  "language_info": {
   "codemirror_mode": {
    "name": "ipython",
    "version": 3
   },
   "file_extension": ".py",
   "mimetype": "text/x-python",
   "name": "python",
   "nbconvert_exporter": "python",
   "pygments_lexer": "ipython3",
   "version": "3.12.3"
  }
 },
 "nbformat": 4,
 "nbformat_minor": 5
}

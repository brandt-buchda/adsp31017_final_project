{
 "cells": [
  {
   "cell_type": "markdown",
   "id": "0",
   "metadata": {},
   "source": [
    "# Merge Data Sources"
   ]
  },
  {
   "cell_type": "code",
   "execution_count": null,
   "id": "1",
   "metadata": {
    "jupyter": {
     "outputs_hidden": true
    }
   },
   "outputs": [],
   "source": [
    "import pandas as pd\n",
    "import re\n",
    "from scripts.utilites import column_stats\n",
    "\n",
    "pd.set_option('display.max_columns', None)\n",
    "pd.set_option('display.max_rows', 50)"
   ]
  },
  {
   "cell_type": "code",
   "execution_count": null,
   "id": "2",
   "metadata": {},
   "outputs": [],
   "source": [
    "rt_movies = pd.read_csv(\"merged_data/rotten_tomatoes_movies.csv\", low_memory=False)\n",
    "movies_metadata = pd.read_csv(\"merged_data/movies_metadata.csv\", low_memory=False)\n",
    "wiki_plots = pd.read_csv(\"merged_data/wiki_movie_plots.csv\", low_memory=False)"
   ]
  },
  {
   "cell_type": "code",
   "execution_count": null,
   "id": "3",
   "metadata": {},
   "outputs": [],
   "source": [
    "def standardize_column_names(df):\n",
    "    def to_snake_case(name):\n",
    "        name = re.sub(r'[\\s/-]+', '_', name)\n",
    "        name = re.sub(r'([a-z])([A-Z])', r'\\1_\\2', name)\n",
    "        name = re.sub(r'__+', '_', name)\n",
    "        return name.lower().strip('_')\n",
    "\n",
    "    df.columns = [to_snake_case(col) for col in df.columns]\n",
    "    return df"
   ]
  },
  {
   "cell_type": "code",
   "execution_count": null,
   "id": "4",
   "metadata": {},
   "outputs": [],
   "source": [
    "rt_movies = standardize_column_names(rt_movies)\n",
    "movies_metadata = standardize_column_names(movies_metadata)\n",
    "wiki_plots = standardize_column_names(wiki_plots)\n",
    "\n",
    "display(wiki_plots[wiki_plots[\"title\"].str.contains(\"Star Wars\", case=False, na=False)])\n",
    "display(movies_metadata[movies_metadata[\"title\"].str.contains(\"Star Wars\", case=False, na=False)])"
   ]
  },
  {
   "cell_type": "code",
   "execution_count": null,
   "id": "5",
   "metadata": {},
   "outputs": [],
   "source": [
    "def standardize_titles(df, column=\"title\"):\n",
    "    df[column] = df[column].str.lower().str.strip()\n",
    "    df[column] = df[column].apply(lambda x: ' '.join(re.sub(r'[^a-z0-9\\s]', '', x).split()) if isinstance(x, str) else x)\n",
    "    return df"
   ]
  },
  {
   "cell_type": "code",
   "execution_count": null,
   "id": "6",
   "metadata": {},
   "outputs": [],
   "source": [
    "rt_movies = standardize_titles(rt_movies)\n",
    "movies_metadata = standardize_titles(movies_metadata)\n",
    "wiki_plots = standardize_titles(wiki_plots)"
   ]
  },
  {
   "cell_type": "code",
   "execution_count": null,
   "id": "7",
   "metadata": {},
   "outputs": [],
   "source": [
    "merged_df = rt_movies.merge(\n",
    "    movies_metadata,\n",
    "    how='outer',\n",
    "    left_on=['title', ],\n",
    "    right_on=['title', ])\n",
    "\n",
    "display(merged_df[merged_df[\"title\"].str.contains(\"Star Wars\", case=False, na=False)])\n",
    "\n",
    "display(column_stats(merged_df))"
   ]
  },
  {
   "cell_type": "code",
   "execution_count": null,
   "id": "8",
   "metadata": {},
   "outputs": [],
   "source": [
    "merged_df = merged_df.merge(\n",
    "    wiki_plots,\n",
    "    how='outer',\n",
    "    on=['title', 'director'])\n",
    "\n",
    "display(merged_df[merged_df[\"title\"].str.contains(\"Star Wars\", case=False, na=False)])\n"
   ]
  },
  {
   "cell_type": "code",
   "execution_count": null,
   "id": "9",
   "metadata": {},
   "outputs": [],
   "source": [
    "merged_df.head()"
   ]
  },
  {
   "cell_type": "code",
   "execution_count": null,
   "id": "10",
   "metadata": {},
   "outputs": [],
   "source": [
    "# Drop unlabeled data\n",
    "merged_df.dropna(subset=['box_office', 'wiki_page'], inplace=True, how='all')\n",
    "\n",
    "column_stats(merged_df)"
   ]
  },
  {
   "cell_type": "code",
   "execution_count": null,
   "id": "11",
   "metadata": {},
   "outputs": [],
   "source": [
    "merged_df.to_csv(\"./merged_data/merged.csv\", index=False)"
   ]
  }
 ],
 "metadata": {
  "kernelspec": {
   "display_name": "Python 3 (ipykernel)",
   "language": "python",
   "name": "python3"
  },
  "language_info": {
   "codemirror_mode": {
    "name": "ipython",
    "version": 3
   },
   "file_extension": ".py",
   "mimetype": "text/x-python",
   "name": "python",
   "nbconvert_exporter": "python",
   "pygments_lexer": "ipython3",
   "version": "3.12.3"
  }
 },
 "nbformat": 4,
 "nbformat_minor": 5
}

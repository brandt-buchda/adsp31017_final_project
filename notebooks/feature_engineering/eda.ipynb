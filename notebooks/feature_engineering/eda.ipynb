{
 "cells": [
  {
   "cell_type": "markdown",
   "id": "0",
   "metadata": {},
   "source": [
    "# Exploratory Data Analysis"
   ]
  },
  {
   "cell_type": "code",
   "execution_count": null,
   "id": "1",
   "metadata": {},
   "outputs": [],
   "source": [
    "import pandas as pd\n"
   ]
  },
  {
   "cell_type": "markdown",
   "id": "2",
   "metadata": {},
   "source": [
    "## Rotten Tomatoes Movies"
   ]
  },
  {
   "cell_type": "code",
   "execution_count": null,
   "id": "3",
   "metadata": {},
   "outputs": [],
   "source": [
    "df = pd.read_csv(\"deduped_data/rotten_tomatoes_movies.csv\", low_memory=False)\n",
    "\n",
    "display(df.head())"
   ]
  },
  {
   "cell_type": "markdown",
   "id": "4",
   "metadata": {},
   "source": [
    "## Columns\n",
    "\n",
    "### id\n",
    "UUID, we don't need it\n",
    "\n",
    "### title\n",
    "UUID, but we need it to join other datasets so it must exist\n",
    "\n",
    "### audienceScore, tomatoMeter, rating\n",
    "Post release metric, we can't use it directly as a feature, but we can calculate averages for genre, director, lead actor etc.\n",
    "\n",
    "### rating\n",
    "G, PG, R, PG-13, etc. need to onehot encode\n",
    "\n",
    "### ratingContents\n",
    "why a certain rating was made, we could encode features with this\n",
    "\n",
    "### releaseDateTheater\n",
    "We can't use this directly, but we should use it to adjust for inflation / movie market growth\n",
    "\n",
    "### releaseDateStreaming\n",
    "drop\n",
    "\n",
    "### genre\n",
    "Contains, multiple genres, need to split and onehot encode\n",
    "\n",
    "### originalLanguage\n",
    "encode\n",
    "\n",
    "### director\n",
    "Probably won't use directly but we can compute metrics based on director like average box office, budget, rating, reviews etc\n",
    "\n",
    "### writer\n",
    "Same as director, probably less important\n",
    "\n",
    "### boxOffice\n",
    "Our target, this value needs to exist and we need to adjust for inflation\n",
    "\n",
    "### distributor\n",
    "Paramount, 20th century, etc. We can encode and maybe compute avg values\n",
    "\n",
    "### soundMix\n",
    "Surrond, Dolby, etc. Encode or drop"
   ]
  },
  {
   "cell_type": "code",
   "execution_count": null,
   "id": "5",
   "metadata": {},
   "outputs": [],
   "source": [
    "df.drop([\"id\", \"releaseDateStreaming\"], axis=1, inplace=True)\n",
    "df.dropna(subset=[\"title\"])\n",
    "\n",
    "df.to_csv(\"merged_data/rotten_tomatoes_movies.csv\", index=False)"
   ]
  },
  {
   "cell_type": "markdown",
   "id": "6",
   "metadata": {},
   "source": [
    "## Movies Metadata"
   ]
  },
  {
   "cell_type": "code",
   "execution_count": null,
   "id": "7",
   "metadata": {},
   "outputs": [],
   "source": [
    "df = pd.read_csv(\"deduped_data/movies_metadata.csv\", low_memory=False)\n",
    "\n",
    "display(df.head())"
   ]
  },
  {
   "cell_type": "markdown",
   "id": "8",
   "metadata": {},
   "source": [
    "## Columns\n",
    "\n",
    "### adult\n",
    "Is it an adult film? Probably drop trues\n",
    "\n",
    "### belongs to collection\n",
    "Is it a sequel or in a series. Encode and or compute avgs\n",
    "\n",
    "### budget\n",
    "Film budget\n",
    "\n",
    "### genre\n",
    "genres as list of json objects (dicts)\n",
    "\n",
    "### homepage\n",
    "website, drop\n",
    "\n",
    "### id\n",
    "UUID for the movie, used to join keywords, and links\n",
    "\n",
    "### imdb_id\n",
    "UUID, drop unless we use it to call imdb api for more data\n",
    "\n",
    "### original_language\n",
    "language abbreviation\n",
    "\n",
    "### original_title\n",
    "drop\n",
    "\n",
    "### overview\n",
    "drop\n",
    "\n",
    "### popularity\n",
    "not clear what it means, drop\n",
    "\n",
    "### poster_path\n",
    "drop\n",
    "\n",
    "### production companies\n",
    "all companies as list of json objects\n",
    "\n",
    "### production_countries\n",
    "drop\n",
    "\n",
    "### release_date\n",
    "need to inflation adjust box_office\n",
    "\n",
    "### revenue\n",
    "box office revenue\n",
    "\n",
    "### runtime\n",
    "keep, maybe drop non feature films or encode\n",
    "\n",
    "### status\n",
    "drop unreleased films\n",
    "\n",
    "### tagline\n",
    "drop\n",
    "\n",
    "### title\n",
    "UUID, use to join with other datasets\n",
    "\n",
    "### video\n",
    "drop\n",
    "\n",
    "### vote_average\n",
    "drop\n",
    "\n",
    "### vote_count\n",
    "drop"
   ]
  },
  {
   "cell_type": "code",
   "execution_count": null,
   "id": "9",
   "metadata": {},
   "outputs": [],
   "source": [
    "df = df[df[\"adult\"] == \"False\"]\n",
    "df = df[df[\"status\"] == \"Released\"]\n",
    "\n",
    "df.drop([\"adult\", \"status\", \"homepage\", \"imdb_id\", \"original_title\", \"overview\", \"popularity\", \"poster_path\", \"production_countries\", \"tagline\", \"video\", \"vote_average\", \"vote_count\"], axis=1, inplace=True)\n",
    "df.dropna(subset=[\"title\"])\n",
    "\n",
    "df.to_csv(\"merged_data/movies_metadata.csv\", index=False)"
   ]
  },
  {
   "cell_type": "markdown",
   "id": "10",
   "metadata": {},
   "source": [
    "## Wiki Plots"
   ]
  },
  {
   "cell_type": "code",
   "execution_count": null,
   "id": "11",
   "metadata": {},
   "outputs": [],
   "source": [
    "df = pd.read_csv(\"deduped_data/wiki_movie_plots.csv\", low_memory=False)\n",
    "\n",
    "display(df.head())"
   ]
  },
  {
   "cell_type": "markdown",
   "id": "12",
   "metadata": {},
   "source": [
    "## Columns\n",
    "\n",
    "### Release Year\n",
    "Keep for inflation and joining\n",
    "\n",
    "### Title\n",
    "Keep for joining\n",
    "\n",
    "### Origin/Ethnicity\n",
    "Drop\n",
    "\n",
    "### Director\n",
    "keep for avg metrics\n",
    "\n",
    "### Cast\n",
    "keep and compute metrics\n",
    "\n",
    "### Genre\n",
    "keep and compute metrics\n",
    "\n",
    "### Wiki Page\n",
    "Keep and use for more data mining\n",
    "\n",
    "### Plot\n",
    "Keep for text mining"
   ]
  },
  {
   "cell_type": "code",
   "execution_count": null,
   "id": "13",
   "metadata": {},
   "outputs": [],
   "source": [
    "df.drop([\"Origin/Ethnicity\"], axis=1, inplace=True)\n",
    "df.dropna(subset=[\"Title\"])\n",
    "\n",
    "df.to_csv(\"merged_data/wiki_movie_plots.csv\", index=False)"
   ]
  }
 ],
 "metadata": {
  "kernelspec": {
   "display_name": "Python 3",
   "language": "python",
   "name": "python3"
  },
  "language_info": {
   "codemirror_mode": {
    "name": "ipython",
    "version": 2
   },
   "file_extension": ".py",
   "mimetype": "text/x-python",
   "name": "python",
   "nbconvert_exporter": "python",
   "pygments_lexer": "ipython2",
   "version": "2.7.6"
  }
 },
 "nbformat": 4,
 "nbformat_minor": 5
}
